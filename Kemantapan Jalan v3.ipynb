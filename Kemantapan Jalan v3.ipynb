{
 "cells": [
  {
   "cell_type": "markdown",
   "metadata": {},
   "source": [
    "### KELOMPOK 5\n",
    "1. Arya Aydin Margono (2203484)\n",
    "2. Jason Rafif Pangestu Suryoatmojo (2204524)\n",
    "3. Muhammad Fahreza Fauzan (2204509)\n",
    "4. Muhammad Rizki Revandi (2205027)\n",
    "5. Ridho Alif Naufaldy (2204896)"
   ]
  },
  {
   "cell_type": "markdown",
   "metadata": {},
   "source": [
    "## PENDAHULUAN\n",
    "Setelah mengumpulkan data Kondisi Permukaan Jalan dan Anggaran Belanja Modal tiap provinsi di Indonesia dari tahun 2019-2022, akan dilihat apakah ada tren dari data-data tersebut. Nantinya, hasil dari penelitian ini bisa dijadikan evaluasi bagi pemerintah daerah dan pemerintah pusat."
   ]
  },
  {
   "cell_type": "markdown",
   "metadata": {},
   "source": [
    "## PRAPROSES DATA\n",
    "* Mengubah huruf-huruf pada nama atribut menjadi lowercase\n",
    "* Mengubah spasi (“ “) menjadi “_”\n",
    "* Menghapus row terakhir pada file kondisi jalan karena berisi penjumlahan dari tiap kolom (tidak terpakai)\n",
    "* Mengubah data type “kd_prov” pada file kondisi jalan menjadi integer\n",
    "* Membuat atribut “kd_prov” menjadi index pada kedua data\n",
    "* Menghapus “DKI Jakarta” karena pada file kondisi jalan sama sekali tidak ada data\n"
   ]
  },
  {
   "cell_type": "code",
   "execution_count": 15,
   "metadata": {},
   "outputs": [],
   "source": [
    "%matplotlib inline\n",
    "import numpy as np\n",
    "import pandas as pd\n",
    "import matplotlib.pyplot as plt\n",
    "import seaborn as sns"
   ]
  },
  {
   "cell_type": "markdown",
   "metadata": {},
   "source": [
    "Load Dataset 2019"
   ]
  },
  {
   "cell_type": "code",
   "execution_count": 16,
   "metadata": {},
   "outputs": [
    {
     "data": {
      "text/html": [
       "<div>\n",
       "<style scoped>\n",
       "    .dataframe tbody tr th:only-of-type {\n",
       "        vertical-align: middle;\n",
       "    }\n",
       "\n",
       "    .dataframe tbody tr th {\n",
       "        vertical-align: top;\n",
       "    }\n",
       "\n",
       "    .dataframe thead th {\n",
       "        text-align: right;\n",
       "    }\n",
       "</style>\n",
       "<table border=\"1\" class=\"dataframe\">\n",
       "  <thead>\n",
       "    <tr style=\"text-align: right;\">\n",
       "      <th></th>\n",
       "      <th>Kd_Prov</th>\n",
       "      <th>Provinsi</th>\n",
       "      <th>Kondisi_Baik</th>\n",
       "      <th>Baik_%</th>\n",
       "      <th>Kondisi_Sedang</th>\n",
       "      <th>Sedang_%</th>\n",
       "      <th>Kondisi_RR</th>\n",
       "      <th>RR_%</th>\n",
       "      <th>Kondisi_RB</th>\n",
       "      <th>RB_%</th>\n",
       "      <th>Total_Panjang</th>\n",
       "    </tr>\n",
       "  </thead>\n",
       "  <tbody>\n",
       "    <tr>\n",
       "      <th>0</th>\n",
       "      <td>11</td>\n",
       "      <td>Aceh</td>\n",
       "      <td>1212.3970</td>\n",
       "      <td>57.68</td>\n",
       "      <td>821.8368</td>\n",
       "      <td>39.10</td>\n",
       "      <td>59.89228</td>\n",
       "      <td>2.85</td>\n",
       "      <td>7.945066</td>\n",
       "      <td>0.38</td>\n",
       "      <td>2102.065</td>\n",
       "    </tr>\n",
       "    <tr>\n",
       "      <th>1</th>\n",
       "      <td>12</td>\n",
       "      <td>Sumatera Utara</td>\n",
       "      <td>465.8827</td>\n",
       "      <td>35.12</td>\n",
       "      <td>503.6549</td>\n",
       "      <td>37.97</td>\n",
       "      <td>275.59730</td>\n",
       "      <td>20.78</td>\n",
       "      <td>81.251480</td>\n",
       "      <td>6.13</td>\n",
       "      <td>1326.376</td>\n",
       "    </tr>\n",
       "    <tr>\n",
       "      <th>2</th>\n",
       "      <td>13</td>\n",
       "      <td>Sumatera Barat</td>\n",
       "      <td>568.5532</td>\n",
       "      <td>47.25</td>\n",
       "      <td>555.0768</td>\n",
       "      <td>46.13</td>\n",
       "      <td>65.41080</td>\n",
       "      <td>5.44</td>\n",
       "      <td>14.288690</td>\n",
       "      <td>1.19</td>\n",
       "      <td>1203.342</td>\n",
       "    </tr>\n",
       "    <tr>\n",
       "      <th>3</th>\n",
       "      <td>14</td>\n",
       "      <td>Riau</td>\n",
       "      <td>373.1396</td>\n",
       "      <td>49.85</td>\n",
       "      <td>351.4721</td>\n",
       "      <td>46.95</td>\n",
       "      <td>19.15625</td>\n",
       "      <td>2.56</td>\n",
       "      <td>4.830009</td>\n",
       "      <td>0.65</td>\n",
       "      <td>748.598</td>\n",
       "    </tr>\n",
       "    <tr>\n",
       "      <th>4</th>\n",
       "      <td>15</td>\n",
       "      <td>Jambi</td>\n",
       "      <td>735.4306</td>\n",
       "      <td>45.96</td>\n",
       "      <td>760.6004</td>\n",
       "      <td>47.53</td>\n",
       "      <td>97.69140</td>\n",
       "      <td>6.11</td>\n",
       "      <td>6.442175</td>\n",
       "      <td>0.40</td>\n",
       "      <td>1600.162</td>\n",
       "    </tr>\n",
       "  </tbody>\n",
       "</table>\n",
       "</div>"
      ],
      "text/plain": [
       "  Kd_Prov        Provinsi  Kondisi_Baik  Baik_%  Kondisi_Sedang  Sedang_%  \\\n",
       "0      11            Aceh     1212.3970   57.68        821.8368     39.10   \n",
       "1      12  Sumatera Utara      465.8827   35.12        503.6549     37.97   \n",
       "2      13  Sumatera Barat      568.5532   47.25        555.0768     46.13   \n",
       "3      14            Riau      373.1396   49.85        351.4721     46.95   \n",
       "4      15           Jambi      735.4306   45.96        760.6004     47.53   \n",
       "\n",
       "   Kondisi_RR   RR_%  Kondisi_RB  RB_%  Total_Panjang  \n",
       "0    59.89228   2.85    7.945066  0.38       2102.065  \n",
       "1   275.59730  20.78   81.251480  6.13       1326.376  \n",
       "2    65.41080   5.44   14.288690  1.19       1203.342  \n",
       "3    19.15625   2.56    4.830009  0.65        748.598  \n",
       "4    97.69140   6.11    6.442175  0.40       1600.162  "
      ]
     },
     "execution_count": 16,
     "metadata": {},
     "output_type": "execute_result"
    }
   ],
   "source": [
    "dfJalan19 = pd.read_csv(\"C:\\\\Users\\\\user\\\\Documents\\\\DMW\\\\Data\\\\Kondisi Permukaan Jalan Nasional Tahun 2019.csv\")\n",
    "dfJalan19.head(5) # Check isi atau content dari file csv tersebut"
   ]
  },
  {
   "cell_type": "code",
   "execution_count": 17,
   "metadata": {},
   "outputs": [
    {
     "data": {
      "text/html": [
       "<div>\n",
       "<style scoped>\n",
       "    .dataframe tbody tr th:only-of-type {\n",
       "        vertical-align: middle;\n",
       "    }\n",
       "\n",
       "    .dataframe tbody tr th {\n",
       "        vertical-align: top;\n",
       "    }\n",
       "\n",
       "    .dataframe thead th {\n",
       "        text-align: right;\n",
       "    }\n",
       "</style>\n",
       "<table border=\"1\" class=\"dataframe\">\n",
       "  <thead>\n",
       "    <tr style=\"text-align: right;\">\n",
       "      <th></th>\n",
       "      <th>kd_prov</th>\n",
       "      <th>Provinsi</th>\n",
       "      <th>Anggaran Belanja Modal</th>\n",
       "      <th>Realisasi Belanja Modal</th>\n",
       "    </tr>\n",
       "  </thead>\n",
       "  <tbody>\n",
       "    <tr>\n",
       "      <th>0</th>\n",
       "      <td>11.0</td>\n",
       "      <td>Aceh</td>\n",
       "      <td>8922.99</td>\n",
       "      <td>8743.71</td>\n",
       "    </tr>\n",
       "    <tr>\n",
       "      <th>1</th>\n",
       "      <td>12.0</td>\n",
       "      <td>Sumatera Utara</td>\n",
       "      <td>10535.97</td>\n",
       "      <td>9604.46</td>\n",
       "    </tr>\n",
       "    <tr>\n",
       "      <th>2</th>\n",
       "      <td>13.0</td>\n",
       "      <td>Sumatera Barat</td>\n",
       "      <td>6262.11</td>\n",
       "      <td>5232.86</td>\n",
       "    </tr>\n",
       "    <tr>\n",
       "      <th>3</th>\n",
       "      <td>14.0</td>\n",
       "      <td>Riau</td>\n",
       "      <td>6656.68</td>\n",
       "      <td>6202.05</td>\n",
       "    </tr>\n",
       "    <tr>\n",
       "      <th>4</th>\n",
       "      <td>15.0</td>\n",
       "      <td>Jambi</td>\n",
       "      <td>4341.75</td>\n",
       "      <td>4513.78</td>\n",
       "    </tr>\n",
       "  </tbody>\n",
       "</table>\n",
       "</div>"
      ],
      "text/plain": [
       "   kd_prov        Provinsi  Anggaran Belanja Modal  Realisasi Belanja Modal\n",
       "0     11.0            Aceh                 8922.99                  8743.71\n",
       "1     12.0  Sumatera Utara                10535.97                  9604.46\n",
       "2     13.0  Sumatera Barat                 6262.11                  5232.86\n",
       "3     14.0            Riau                 6656.68                  6202.05\n",
       "4     15.0           Jambi                 4341.75                  4513.78"
      ]
     },
     "execution_count": 17,
     "metadata": {},
     "output_type": "execute_result"
    }
   ],
   "source": [
    "dfAnggaran19 = pd.read_csv(\"C:\\\\Users\\\\user\\\\Documents\\\\DMW\\\\Data\\\\Anggaran Belanja Modal Provinsi 2019.csv\")\n",
    "dfAnggaran19.head(5) # Check isi atau content dari file csv tersebut"
   ]
  },
  {
   "cell_type": "markdown",
   "metadata": {},
   "source": [
    "Load Dataset 2020"
   ]
  },
  {
   "cell_type": "code",
   "execution_count": 18,
   "metadata": {},
   "outputs": [
    {
     "data": {
      "text/html": [
       "<div>\n",
       "<style scoped>\n",
       "    .dataframe tbody tr th:only-of-type {\n",
       "        vertical-align: middle;\n",
       "    }\n",
       "\n",
       "    .dataframe tbody tr th {\n",
       "        vertical-align: top;\n",
       "    }\n",
       "\n",
       "    .dataframe thead th {\n",
       "        text-align: right;\n",
       "    }\n",
       "</style>\n",
       "<table border=\"1\" class=\"dataframe\">\n",
       "  <thead>\n",
       "    <tr style=\"text-align: right;\">\n",
       "      <th></th>\n",
       "      <th>Kd_Prov</th>\n",
       "      <th>Provinsi</th>\n",
       "      <th>Kondisi_Baik</th>\n",
       "      <th>Baik_%</th>\n",
       "      <th>Kondisi_Sedang</th>\n",
       "      <th>Sedang_%</th>\n",
       "      <th>Kondisi_RR</th>\n",
       "      <th>RR_%</th>\n",
       "      <th>Kondisi_RB</th>\n",
       "      <th>RB_%</th>\n",
       "      <th>Total_Panjang</th>\n",
       "    </tr>\n",
       "  </thead>\n",
       "  <tbody>\n",
       "    <tr>\n",
       "      <th>0</th>\n",
       "      <td>11</td>\n",
       "      <td>Aceh</td>\n",
       "      <td>1000.11</td>\n",
       "      <td>47.58</td>\n",
       "      <td>1029.73</td>\n",
       "      <td>48.99</td>\n",
       "      <td>55.24</td>\n",
       "      <td>2.63</td>\n",
       "      <td>16.98</td>\n",
       "      <td>0.81</td>\n",
       "      <td>2102.07</td>\n",
       "    </tr>\n",
       "    <tr>\n",
       "      <th>1</th>\n",
       "      <td>12</td>\n",
       "      <td>Sumatera Utara</td>\n",
       "      <td>1386.98</td>\n",
       "      <td>52.69</td>\n",
       "      <td>1145.65</td>\n",
       "      <td>43.52</td>\n",
       "      <td>83.44</td>\n",
       "      <td>3.17</td>\n",
       "      <td>16.17</td>\n",
       "      <td>0.61</td>\n",
       "      <td>2632.22</td>\n",
       "    </tr>\n",
       "    <tr>\n",
       "      <th>2</th>\n",
       "      <td>13</td>\n",
       "      <td>Sumatera Barat</td>\n",
       "      <td>541.51</td>\n",
       "      <td>37.38</td>\n",
       "      <td>766.98</td>\n",
       "      <td>52.94</td>\n",
       "      <td>103.30</td>\n",
       "      <td>7.13</td>\n",
       "      <td>37.02</td>\n",
       "      <td>2.56</td>\n",
       "      <td>1448.81</td>\n",
       "    </tr>\n",
       "    <tr>\n",
       "      <th>3</th>\n",
       "      <td>14</td>\n",
       "      <td>Riau</td>\n",
       "      <td>284.12</td>\n",
       "      <td>21.26</td>\n",
       "      <td>848.19</td>\n",
       "      <td>63.46</td>\n",
       "      <td>129.34</td>\n",
       "      <td>9.68</td>\n",
       "      <td>74.97</td>\n",
       "      <td>5.61</td>\n",
       "      <td>1336.61</td>\n",
       "    </tr>\n",
       "    <tr>\n",
       "      <th>4</th>\n",
       "      <td>15</td>\n",
       "      <td>Jambi</td>\n",
       "      <td>548.71</td>\n",
       "      <td>41.63</td>\n",
       "      <td>676.60</td>\n",
       "      <td>51.34</td>\n",
       "      <td>47.91</td>\n",
       "      <td>3.64</td>\n",
       "      <td>44.70</td>\n",
       "      <td>3.39</td>\n",
       "      <td>1317.93</td>\n",
       "    </tr>\n",
       "  </tbody>\n",
       "</table>\n",
       "</div>"
      ],
      "text/plain": [
       "  Kd_Prov        Provinsi  Kondisi_Baik  Baik_%  Kondisi_Sedang  Sedang_%  \\\n",
       "0      11            Aceh       1000.11   47.58         1029.73     48.99   \n",
       "1      12  Sumatera Utara       1386.98   52.69         1145.65     43.52   \n",
       "2      13  Sumatera Barat        541.51   37.38          766.98     52.94   \n",
       "3      14            Riau        284.12   21.26          848.19     63.46   \n",
       "4      15           Jambi        548.71   41.63          676.60     51.34   \n",
       "\n",
       "   Kondisi_RR  RR_%  Kondisi_RB  RB_%  Total_Panjang  \n",
       "0       55.24  2.63       16.98  0.81        2102.07  \n",
       "1       83.44  3.17       16.17  0.61        2632.22  \n",
       "2      103.30  7.13       37.02  2.56        1448.81  \n",
       "3      129.34  9.68       74.97  5.61        1336.61  \n",
       "4       47.91  3.64       44.70  3.39        1317.93  "
      ]
     },
     "execution_count": 18,
     "metadata": {},
     "output_type": "execute_result"
    }
   ],
   "source": [
    "dfJalan20 = pd.read_csv(\"C:\\\\Users\\\\user\\\\Documents\\\\DMW\\\\Data\\\\Kondisi Permukaan Jalan Nasional Tahun 2020.csv\")\n",
    "dfJalan20.head(5) # Check isi atau content dari file csv tersebut"
   ]
  },
  {
   "cell_type": "code",
   "execution_count": 19,
   "metadata": {},
   "outputs": [
    {
     "data": {
      "text/html": [
       "<div>\n",
       "<style scoped>\n",
       "    .dataframe tbody tr th:only-of-type {\n",
       "        vertical-align: middle;\n",
       "    }\n",
       "\n",
       "    .dataframe tbody tr th {\n",
       "        vertical-align: top;\n",
       "    }\n",
       "\n",
       "    .dataframe thead th {\n",
       "        text-align: right;\n",
       "    }\n",
       "</style>\n",
       "<table border=\"1\" class=\"dataframe\">\n",
       "  <thead>\n",
       "    <tr style=\"text-align: right;\">\n",
       "      <th></th>\n",
       "      <th>kd_prov</th>\n",
       "      <th>Provinsi</th>\n",
       "      <th>Anggaran Belanja Modal</th>\n",
       "      <th>Realisasi Belanja Modal</th>\n",
       "    </tr>\n",
       "  </thead>\n",
       "  <tbody>\n",
       "    <tr>\n",
       "      <th>0</th>\n",
       "      <td>11</td>\n",
       "      <td>Aceh</td>\n",
       "      <td>8398.09</td>\n",
       "      <td>6395.57</td>\n",
       "    </tr>\n",
       "    <tr>\n",
       "      <th>1</th>\n",
       "      <td>12</td>\n",
       "      <td>Sumatera Utara</td>\n",
       "      <td>10274.83</td>\n",
       "      <td>7117.90</td>\n",
       "    </tr>\n",
       "    <tr>\n",
       "      <th>2</th>\n",
       "      <td>13</td>\n",
       "      <td>Sumatera Barat</td>\n",
       "      <td>5715.49</td>\n",
       "      <td>3519.43</td>\n",
       "    </tr>\n",
       "    <tr>\n",
       "      <th>3</th>\n",
       "      <td>14</td>\n",
       "      <td>Riau</td>\n",
       "      <td>6665.30</td>\n",
       "      <td>4459.02</td>\n",
       "    </tr>\n",
       "    <tr>\n",
       "      <th>4</th>\n",
       "      <td>15</td>\n",
       "      <td>Jambi</td>\n",
       "      <td>5080.89</td>\n",
       "      <td>3251.13</td>\n",
       "    </tr>\n",
       "  </tbody>\n",
       "</table>\n",
       "</div>"
      ],
      "text/plain": [
       "   kd_prov        Provinsi  Anggaran Belanja Modal  Realisasi Belanja Modal\n",
       "0       11            Aceh                 8398.09                  6395.57\n",
       "1       12  Sumatera Utara                10274.83                  7117.90\n",
       "2       13  Sumatera Barat                 5715.49                  3519.43\n",
       "3       14            Riau                 6665.30                  4459.02\n",
       "4       15           Jambi                 5080.89                  3251.13"
      ]
     },
     "execution_count": 19,
     "metadata": {},
     "output_type": "execute_result"
    }
   ],
   "source": [
    "dfAnggaran20 = pd.read_csv(\"C:\\\\Users\\\\user\\\\Documents\\\\DMW\\\\Data\\\\Anggaran Belanja Modal Provinsi 2020.csv\")\n",
    "dfAnggaran20.head(5) # Check isi atau content dari file csv tersebut"
   ]
  },
  {
   "cell_type": "markdown",
   "metadata": {},
   "source": [
    "Load Dataset 2021"
   ]
  },
  {
   "cell_type": "code",
   "execution_count": 20,
   "metadata": {},
   "outputs": [
    {
     "data": {
      "text/html": [
       "<div>\n",
       "<style scoped>\n",
       "    .dataframe tbody tr th:only-of-type {\n",
       "        vertical-align: middle;\n",
       "    }\n",
       "\n",
       "    .dataframe tbody tr th {\n",
       "        vertical-align: top;\n",
       "    }\n",
       "\n",
       "    .dataframe thead th {\n",
       "        text-align: right;\n",
       "    }\n",
       "</style>\n",
       "<table border=\"1\" class=\"dataframe\">\n",
       "  <thead>\n",
       "    <tr style=\"text-align: right;\">\n",
       "      <th></th>\n",
       "      <th>Kd_Prov</th>\n",
       "      <th>Provinsi</th>\n",
       "      <th>Kondisi_Baik</th>\n",
       "      <th>Baik_%</th>\n",
       "      <th>Kondisi_Sedang</th>\n",
       "      <th>Sedang_%</th>\n",
       "      <th>Kondisi_RR</th>\n",
       "      <th>RR_%</th>\n",
       "      <th>Kondisi_RB</th>\n",
       "      <th>RB_%</th>\n",
       "      <th>Total_Panjang</th>\n",
       "    </tr>\n",
       "  </thead>\n",
       "  <tbody>\n",
       "    <tr>\n",
       "      <th>0</th>\n",
       "      <td>11</td>\n",
       "      <td>Aceh</td>\n",
       "      <td>954.85</td>\n",
       "      <td>45.42</td>\n",
       "      <td>1109.10</td>\n",
       "      <td>52.76</td>\n",
       "      <td>33.24</td>\n",
       "      <td>1.58</td>\n",
       "      <td>4.88</td>\n",
       "      <td>0.23</td>\n",
       "      <td>2102.07</td>\n",
       "    </tr>\n",
       "    <tr>\n",
       "      <th>1</th>\n",
       "      <td>12</td>\n",
       "      <td>Sumatera Utara</td>\n",
       "      <td>1267.24</td>\n",
       "      <td>48.14</td>\n",
       "      <td>1240.36</td>\n",
       "      <td>47.12</td>\n",
       "      <td>103.30</td>\n",
       "      <td>3.92</td>\n",
       "      <td>21.32</td>\n",
       "      <td>0.81</td>\n",
       "      <td>2632.22</td>\n",
       "    </tr>\n",
       "    <tr>\n",
       "      <th>2</th>\n",
       "      <td>13</td>\n",
       "      <td>Sumatera Barat</td>\n",
       "      <td>454.70</td>\n",
       "      <td>31.37</td>\n",
       "      <td>884.90</td>\n",
       "      <td>61.04</td>\n",
       "      <td>82.68</td>\n",
       "      <td>5.70</td>\n",
       "      <td>27.33</td>\n",
       "      <td>1.89</td>\n",
       "      <td>1449.62</td>\n",
       "    </tr>\n",
       "    <tr>\n",
       "      <th>3</th>\n",
       "      <td>14</td>\n",
       "      <td>Riau</td>\n",
       "      <td>336.28</td>\n",
       "      <td>25.16</td>\n",
       "      <td>823.18</td>\n",
       "      <td>61.59</td>\n",
       "      <td>135.59</td>\n",
       "      <td>10.14</td>\n",
       "      <td>41.56</td>\n",
       "      <td>3.11</td>\n",
       "      <td>1336.61</td>\n",
       "    </tr>\n",
       "    <tr>\n",
       "      <th>4</th>\n",
       "      <td>15</td>\n",
       "      <td>Jambi</td>\n",
       "      <td>582.78</td>\n",
       "      <td>44.22</td>\n",
       "      <td>648.83</td>\n",
       "      <td>49.23</td>\n",
       "      <td>41.93</td>\n",
       "      <td>3.18</td>\n",
       "      <td>44.38</td>\n",
       "      <td>3.37</td>\n",
       "      <td>1317.93</td>\n",
       "    </tr>\n",
       "  </tbody>\n",
       "</table>\n",
       "</div>"
      ],
      "text/plain": [
       "  Kd_Prov        Provinsi  Kondisi_Baik  Baik_%  Kondisi_Sedang  Sedang_%  \\\n",
       "0      11            Aceh        954.85   45.42         1109.10     52.76   \n",
       "1      12  Sumatera Utara       1267.24   48.14         1240.36     47.12   \n",
       "2      13  Sumatera Barat        454.70   31.37          884.90     61.04   \n",
       "3      14            Riau        336.28   25.16          823.18     61.59   \n",
       "4      15           Jambi        582.78   44.22          648.83     49.23   \n",
       "\n",
       "   Kondisi_RR   RR_%  Kondisi_RB  RB_%  Total_Panjang  \n",
       "0       33.24   1.58        4.88  0.23        2102.07  \n",
       "1      103.30   3.92       21.32  0.81        2632.22  \n",
       "2       82.68   5.70       27.33  1.89        1449.62  \n",
       "3      135.59  10.14       41.56  3.11        1336.61  \n",
       "4       41.93   3.18       44.38  3.37        1317.93  "
      ]
     },
     "execution_count": 20,
     "metadata": {},
     "output_type": "execute_result"
    }
   ],
   "source": [
    "dfJalan21 = pd.read_csv(\"C:\\\\Users\\\\user\\\\Documents\\\\DMW\\\\Data\\\\Kondisi Permukaan Jalan Nasional Tahun 2021.csv\")\n",
    "dfJalan21.head(5) # Check isi atau content dari file csv tersebut"
   ]
  },
  {
   "cell_type": "code",
   "execution_count": 21,
   "metadata": {},
   "outputs": [
    {
     "data": {
      "text/html": [
       "<div>\n",
       "<style scoped>\n",
       "    .dataframe tbody tr th:only-of-type {\n",
       "        vertical-align: middle;\n",
       "    }\n",
       "\n",
       "    .dataframe tbody tr th {\n",
       "        vertical-align: top;\n",
       "    }\n",
       "\n",
       "    .dataframe thead th {\n",
       "        text-align: right;\n",
       "    }\n",
       "</style>\n",
       "<table border=\"1\" class=\"dataframe\">\n",
       "  <thead>\n",
       "    <tr style=\"text-align: right;\">\n",
       "      <th></th>\n",
       "      <th>Kd_Prov</th>\n",
       "      <th>Provinsi</th>\n",
       "      <th>Anggaran Belanja Modal</th>\n",
       "      <th>Realisasi Belanja Modal</th>\n",
       "    </tr>\n",
       "  </thead>\n",
       "  <tbody>\n",
       "    <tr>\n",
       "      <th>0</th>\n",
       "      <td>11</td>\n",
       "      <td>Aceh</td>\n",
       "      <td>8145.39</td>\n",
       "      <td>6687.77</td>\n",
       "    </tr>\n",
       "    <tr>\n",
       "      <th>1</th>\n",
       "      <td>12</td>\n",
       "      <td>Sumatera Utara</td>\n",
       "      <td>8037.23</td>\n",
       "      <td>7371.71</td>\n",
       "    </tr>\n",
       "    <tr>\n",
       "      <th>2</th>\n",
       "      <td>13</td>\n",
       "      <td>Sumatera Barat</td>\n",
       "      <td>4179.28</td>\n",
       "      <td>3237.20</td>\n",
       "    </tr>\n",
       "    <tr>\n",
       "      <th>3</th>\n",
       "      <td>14</td>\n",
       "      <td>Riau</td>\n",
       "      <td>4266.47</td>\n",
       "      <td>4331.27</td>\n",
       "    </tr>\n",
       "    <tr>\n",
       "      <th>4</th>\n",
       "      <td>15</td>\n",
       "      <td>Jambi</td>\n",
       "      <td>3077.80</td>\n",
       "      <td>3186.30</td>\n",
       "    </tr>\n",
       "  </tbody>\n",
       "</table>\n",
       "</div>"
      ],
      "text/plain": [
       "   Kd_Prov        Provinsi  Anggaran Belanja Modal  Realisasi Belanja Modal\n",
       "0       11            Aceh                 8145.39                  6687.77\n",
       "1       12  Sumatera Utara                 8037.23                  7371.71\n",
       "2       13  Sumatera Barat                 4179.28                  3237.20\n",
       "3       14            Riau                 4266.47                  4331.27\n",
       "4       15           Jambi                 3077.80                  3186.30"
      ]
     },
     "execution_count": 21,
     "metadata": {},
     "output_type": "execute_result"
    }
   ],
   "source": [
    "dfAnggaran21 = pd.read_csv(\"C:\\\\Users\\\\user\\\\Documents\\\\DMW\\\\Data\\\\Anggaran Belanja Modal Provinsi 2021.csv\")\n",
    "dfAnggaran21.head(5) # Check isi atau content dari file csv tersebut"
   ]
  },
  {
   "cell_type": "markdown",
   "metadata": {},
   "source": [
    "Load Dataset 2022"
   ]
  },
  {
   "cell_type": "code",
   "execution_count": 22,
   "metadata": {},
   "outputs": [
    {
     "data": {
      "text/html": [
       "<div>\n",
       "<style scoped>\n",
       "    .dataframe tbody tr th:only-of-type {\n",
       "        vertical-align: middle;\n",
       "    }\n",
       "\n",
       "    .dataframe tbody tr th {\n",
       "        vertical-align: top;\n",
       "    }\n",
       "\n",
       "    .dataframe thead th {\n",
       "        text-align: right;\n",
       "    }\n",
       "</style>\n",
       "<table border=\"1\" class=\"dataframe\">\n",
       "  <thead>\n",
       "    <tr style=\"text-align: right;\">\n",
       "      <th></th>\n",
       "      <th>Kd_Prov</th>\n",
       "      <th>Provinsi</th>\n",
       "      <th>Kondisi_Baik</th>\n",
       "      <th>Baik_%</th>\n",
       "      <th>Kondisi_Sedang</th>\n",
       "      <th>Sedang_%</th>\n",
       "      <th>Kondisi_RR</th>\n",
       "      <th>RR_%</th>\n",
       "      <th>Kondisi_RB</th>\n",
       "      <th>RB_%</th>\n",
       "      <th>Total_Panjang</th>\n",
       "    </tr>\n",
       "  </thead>\n",
       "  <tbody>\n",
       "    <tr>\n",
       "      <th>0</th>\n",
       "      <td>11</td>\n",
       "      <td>Aceh</td>\n",
       "      <td>983.54</td>\n",
       "      <td>46.79</td>\n",
       "      <td>1090.25</td>\n",
       "      <td>51.87</td>\n",
       "      <td>25.09</td>\n",
       "      <td>1.19</td>\n",
       "      <td>3.19</td>\n",
       "      <td>0.15</td>\n",
       "      <td>2102.07</td>\n",
       "    </tr>\n",
       "    <tr>\n",
       "      <th>1</th>\n",
       "      <td>12</td>\n",
       "      <td>Sumatera Utara</td>\n",
       "      <td>1080.93</td>\n",
       "      <td>41.07</td>\n",
       "      <td>1328.31</td>\n",
       "      <td>50.46</td>\n",
       "      <td>182.18</td>\n",
       "      <td>6.92</td>\n",
       "      <td>40.80</td>\n",
       "      <td>1.55</td>\n",
       "      <td>2632.22</td>\n",
       "    </tr>\n",
       "    <tr>\n",
       "      <th>2</th>\n",
       "      <td>13</td>\n",
       "      <td>Sumatera Barat</td>\n",
       "      <td>515.88</td>\n",
       "      <td>35.59</td>\n",
       "      <td>821.43</td>\n",
       "      <td>56.67</td>\n",
       "      <td>78.41</td>\n",
       "      <td>5.41</td>\n",
       "      <td>33.08</td>\n",
       "      <td>2.28</td>\n",
       "      <td>1449.62</td>\n",
       "    </tr>\n",
       "    <tr>\n",
       "      <th>3</th>\n",
       "      <td>14</td>\n",
       "      <td>Riau</td>\n",
       "      <td>385.90</td>\n",
       "      <td>28.87</td>\n",
       "      <td>836.52</td>\n",
       "      <td>62.58</td>\n",
       "      <td>86.95</td>\n",
       "      <td>6.51</td>\n",
       "      <td>27.24</td>\n",
       "      <td>2.04</td>\n",
       "      <td>1336.61</td>\n",
       "    </tr>\n",
       "    <tr>\n",
       "      <th>4</th>\n",
       "      <td>15</td>\n",
       "      <td>Jambi</td>\n",
       "      <td>529.05</td>\n",
       "      <td>40.14</td>\n",
       "      <td>616.97</td>\n",
       "      <td>46.81</td>\n",
       "      <td>129.38</td>\n",
       "      <td>9.82</td>\n",
       "      <td>42.54</td>\n",
       "      <td>3.23</td>\n",
       "      <td>1317.93</td>\n",
       "    </tr>\n",
       "  </tbody>\n",
       "</table>\n",
       "</div>"
      ],
      "text/plain": [
       "  Kd_Prov        Provinsi  Kondisi_Baik  Baik_%  Kondisi_Sedang  Sedang_%  \\\n",
       "0      11            Aceh        983.54   46.79         1090.25     51.87   \n",
       "1      12  Sumatera Utara       1080.93   41.07         1328.31     50.46   \n",
       "2      13  Sumatera Barat        515.88   35.59          821.43     56.67   \n",
       "3      14            Riau        385.90   28.87          836.52     62.58   \n",
       "4      15           Jambi        529.05   40.14          616.97     46.81   \n",
       "\n",
       "   Kondisi_RR  RR_%  Kondisi_RB  RB_%  Total_Panjang  \n",
       "0       25.09  1.19        3.19  0.15        2102.07  \n",
       "1      182.18  6.92       40.80  1.55        2632.22  \n",
       "2       78.41  5.41       33.08  2.28        1449.62  \n",
       "3       86.95  6.51       27.24  2.04        1336.61  \n",
       "4      129.38  9.82       42.54  3.23        1317.93  "
      ]
     },
     "execution_count": 22,
     "metadata": {},
     "output_type": "execute_result"
    }
   ],
   "source": [
    "dfJalan22 = pd.read_csv(\"C:\\\\Users\\\\user\\\\Documents\\\\DMW\\\\Data\\\\Kondisi Permukaan Jalan Nasional Tahun 2022.csv\")\n",
    "dfJalan22.head(5) # Check isi atau content dari file csv tersebut"
   ]
  },
  {
   "cell_type": "code",
   "execution_count": 23,
   "metadata": {},
   "outputs": [
    {
     "data": {
      "text/html": [
       "<div>\n",
       "<style scoped>\n",
       "    .dataframe tbody tr th:only-of-type {\n",
       "        vertical-align: middle;\n",
       "    }\n",
       "\n",
       "    .dataframe tbody tr th {\n",
       "        vertical-align: top;\n",
       "    }\n",
       "\n",
       "    .dataframe thead th {\n",
       "        text-align: right;\n",
       "    }\n",
       "</style>\n",
       "<table border=\"1\" class=\"dataframe\">\n",
       "  <thead>\n",
       "    <tr style=\"text-align: right;\">\n",
       "      <th></th>\n",
       "      <th>Kd_Prov</th>\n",
       "      <th>Provinsi</th>\n",
       "      <th>Anggaran Belanja Modal</th>\n",
       "      <th>Realisasi Belanja Modal</th>\n",
       "    </tr>\n",
       "  </thead>\n",
       "  <tbody>\n",
       "    <tr>\n",
       "      <th>0</th>\n",
       "      <td>11</td>\n",
       "      <td>Aceh</td>\n",
       "      <td>7004.65</td>\n",
       "      <td>6641.72</td>\n",
       "    </tr>\n",
       "    <tr>\n",
       "      <th>1</th>\n",
       "      <td>12</td>\n",
       "      <td>Sumatera Utara</td>\n",
       "      <td>9303.59</td>\n",
       "      <td>9649.53</td>\n",
       "    </tr>\n",
       "    <tr>\n",
       "      <th>2</th>\n",
       "      <td>13</td>\n",
       "      <td>Sumatera Barat</td>\n",
       "      <td>4353.56</td>\n",
       "      <td>3772.88</td>\n",
       "    </tr>\n",
       "    <tr>\n",
       "      <th>3</th>\n",
       "      <td>14</td>\n",
       "      <td>Riau</td>\n",
       "      <td>4745.21</td>\n",
       "      <td>5365.28</td>\n",
       "    </tr>\n",
       "    <tr>\n",
       "      <th>4</th>\n",
       "      <td>15</td>\n",
       "      <td>Jambi</td>\n",
       "      <td>3190.40</td>\n",
       "      <td>3515.71</td>\n",
       "    </tr>\n",
       "  </tbody>\n",
       "</table>\n",
       "</div>"
      ],
      "text/plain": [
       "   Kd_Prov        Provinsi  Anggaran Belanja Modal  Realisasi Belanja Modal\n",
       "0       11            Aceh                 7004.65                  6641.72\n",
       "1       12  Sumatera Utara                 9303.59                  9649.53\n",
       "2       13  Sumatera Barat                 4353.56                  3772.88\n",
       "3       14            Riau                 4745.21                  5365.28\n",
       "4       15           Jambi                 3190.40                  3515.71"
      ]
     },
     "execution_count": 23,
     "metadata": {},
     "output_type": "execute_result"
    }
   ],
   "source": [
    "dfAnggaran22 = pd.read_csv(\"C:\\\\Users\\\\user\\\\Documents\\\\DMW\\\\Data\\\\Anggaran Belanja Modal Provinsi 2022.csv\")\n",
    "dfAnggaran22.head(5) # Check isi atau content dari file csv tersebut"
   ]
  },
  {
   "cell_type": "markdown",
   "metadata": {},
   "source": [
    "Cek property dan explorasi dataframe yang telah diambil dari file csv"
   ]
  },
  {
   "cell_type": "code",
   "execution_count": 24,
   "metadata": {},
   "outputs": [
    {
     "name": "stdout",
     "output_type": "stream",
     "text": [
      "<class 'pandas.core.frame.DataFrame'>\n",
      "RangeIndex: 35 entries, 0 to 34\n",
      "Data columns (total 11 columns):\n",
      " #   Column          Non-Null Count  Dtype  \n",
      "---  ------          --------------  -----  \n",
      " 0   Kd_Prov         35 non-null     object \n",
      " 1   Provinsi        35 non-null     object \n",
      " 2   Kondisi_Baik    35 non-null     float64\n",
      " 3   Baik_%          35 non-null     float64\n",
      " 4   Kondisi_Sedang  35 non-null     float64\n",
      " 5   Sedang_%        35 non-null     float64\n",
      " 6   Kondisi_RR      35 non-null     float64\n",
      " 7   RR_%            35 non-null     float64\n",
      " 8   Kondisi_RB      35 non-null     float64\n",
      " 9   RB_%            35 non-null     float64\n",
      " 10  Total_Panjang   35 non-null     float64\n",
      "dtypes: float64(9), object(2)\n",
      "memory usage: 3.1+ KB\n",
      "<class 'pandas.core.frame.DataFrame'>\n",
      "RangeIndex: 35 entries, 0 to 34\n",
      "Data columns (total 11 columns):\n",
      " #   Column          Non-Null Count  Dtype  \n",
      "---  ------          --------------  -----  \n",
      " 0   Kd_Prov         35 non-null     object \n",
      " 1   Provinsi        35 non-null     object \n",
      " 2   Kondisi_Baik    34 non-null     float64\n",
      " 3   Baik_%          34 non-null     float64\n",
      " 4   Kondisi_Sedang  34 non-null     float64\n",
      " 5   Sedang_%        34 non-null     float64\n",
      " 6   Kondisi_RR      34 non-null     float64\n",
      " 7   RR_%            34 non-null     float64\n",
      " 8   Kondisi_RB      34 non-null     float64\n",
      " 9   RB_%            33 non-null     float64\n",
      " 10  Total_Panjang   34 non-null     float64\n",
      "dtypes: float64(9), object(2)\n",
      "memory usage: 3.1+ KB\n",
      "<class 'pandas.core.frame.DataFrame'>\n",
      "RangeIndex: 35 entries, 0 to 34\n",
      "Data columns (total 11 columns):\n",
      " #   Column          Non-Null Count  Dtype  \n",
      "---  ------          --------------  -----  \n",
      " 0   Kd_Prov         35 non-null     object \n",
      " 1   Provinsi        35 non-null     object \n",
      " 2   Kondisi_Baik    34 non-null     float64\n",
      " 3   Baik_%          34 non-null     float64\n",
      " 4   Kondisi_Sedang  34 non-null     float64\n",
      " 5   Sedang_%        34 non-null     float64\n",
      " 6   Kondisi_RR      34 non-null     float64\n",
      " 7   RR_%            34 non-null     float64\n",
      " 8   Kondisi_RB      34 non-null     float64\n",
      " 9   RB_%            34 non-null     float64\n",
      " 10  Total_Panjang   34 non-null     float64\n",
      "dtypes: float64(9), object(2)\n",
      "memory usage: 3.1+ KB\n",
      "<class 'pandas.core.frame.DataFrame'>\n",
      "RangeIndex: 35 entries, 0 to 34\n",
      "Data columns (total 11 columns):\n",
      " #   Column          Non-Null Count  Dtype  \n",
      "---  ------          --------------  -----  \n",
      " 0   Kd_Prov         35 non-null     object \n",
      " 1   Provinsi        35 non-null     object \n",
      " 2   Kondisi_Baik    35 non-null     float64\n",
      " 3   Baik_%          35 non-null     float64\n",
      " 4   Kondisi_Sedang  35 non-null     float64\n",
      " 5   Sedang_%        35 non-null     float64\n",
      " 6   Kondisi_RR      35 non-null     float64\n",
      " 7   RR_%            35 non-null     float64\n",
      " 8   Kondisi_RB      35 non-null     float64\n",
      " 9   RB_%            35 non-null     float64\n",
      " 10  Total_Panjang   35 non-null     float64\n",
      "dtypes: float64(9), object(2)\n",
      "memory usage: 3.1+ KB\n"
     ]
    }
   ],
   "source": [
    "# Cek dataframe Jalan\n",
    "dfJalan19.info() \n",
    "dfJalan20.info()\n",
    "dfJalan21.info()\n",
    "dfJalan22.info()"
   ]
  },
  {
   "cell_type": "code",
   "execution_count": 25,
   "metadata": {},
   "outputs": [
    {
     "name": "stdout",
     "output_type": "stream",
     "text": [
      "<class 'pandas.core.frame.DataFrame'>\n",
      "RangeIndex: 998 entries, 0 to 997\n",
      "Data columns (total 4 columns):\n",
      " #   Column                   Non-Null Count  Dtype  \n",
      "---  ------                   --------------  -----  \n",
      " 0   kd_prov                  34 non-null     float64\n",
      " 1   Provinsi                 34 non-null     object \n",
      " 2   Anggaran Belanja Modal   34 non-null     float64\n",
      " 3   Realisasi Belanja Modal  34 non-null     float64\n",
      "dtypes: float64(3), object(1)\n",
      "memory usage: 31.3+ KB\n",
      "<class 'pandas.core.frame.DataFrame'>\n",
      "RangeIndex: 34 entries, 0 to 33\n",
      "Data columns (total 4 columns):\n",
      " #   Column                   Non-Null Count  Dtype  \n",
      "---  ------                   --------------  -----  \n",
      " 0   kd_prov                  34 non-null     int64  \n",
      " 1   Provinsi                 34 non-null     object \n",
      " 2   Anggaran Belanja Modal   34 non-null     float64\n",
      " 3   Realisasi Belanja Modal  34 non-null     float64\n",
      "dtypes: float64(2), int64(1), object(1)\n",
      "memory usage: 1.2+ KB\n",
      "<class 'pandas.core.frame.DataFrame'>\n",
      "RangeIndex: 34 entries, 0 to 33\n",
      "Data columns (total 4 columns):\n",
      " #   Column                   Non-Null Count  Dtype  \n",
      "---  ------                   --------------  -----  \n",
      " 0   Kd_Prov                  34 non-null     int64  \n",
      " 1   Provinsi                 34 non-null     object \n",
      " 2   Anggaran Belanja Modal   34 non-null     float64\n",
      " 3   Realisasi Belanja Modal  34 non-null     float64\n",
      "dtypes: float64(2), int64(1), object(1)\n",
      "memory usage: 1.2+ KB\n",
      "<class 'pandas.core.frame.DataFrame'>\n",
      "RangeIndex: 34 entries, 0 to 33\n",
      "Data columns (total 4 columns):\n",
      " #   Column                   Non-Null Count  Dtype  \n",
      "---  ------                   --------------  -----  \n",
      " 0   Kd_Prov                  34 non-null     int64  \n",
      " 1   Provinsi                 34 non-null     object \n",
      " 2   Anggaran Belanja Modal   34 non-null     float64\n",
      " 3   Realisasi Belanja Modal  34 non-null     float64\n",
      "dtypes: float64(2), int64(1), object(1)\n",
      "memory usage: 1.2+ KB\n"
     ]
    }
   ],
   "source": [
    "# Cek dataframe Anggaran\n",
    "dfAnggaran19.info() \n",
    "dfAnggaran20.info()\n",
    "dfAnggaran21.info()\n",
    "dfAnggaran22.info()"
   ]
  },
  {
   "cell_type": "markdown",
   "metadata": {},
   "source": [
    "Dari atas, dapat terlihat bahwa kita harus melakukan beberapa hal, yaitu:\n",
    "1. Mengubah atribut menjadi lowercase agar konsisten\n",
    "2. Mengubah tipedata Kd_Provinsi menjadi int (agar dapat dilink dengan tabel anggaran dengan mudah)\n",
    "3. Menghapus data DKI Jakarta karena dalam file csv data tersebut kosong\n",
    "4. Membuat Golongan Anggaran\n",
    "5. Menyambungkan kedua dataframe\n"
   ]
  },
  {
   "cell_type": "markdown",
   "metadata": {},
   "source": [
    "Membuat atribut konsisten menggunakan lowercase\n"
   ]
  },
  {
   "cell_type": "code",
   "execution_count": 26,
   "metadata": {},
   "outputs": [],
   "source": [
    "dfJalan19 = dfJalan19.rename(columns=str.lower)\n",
    "dfJalan20 = dfJalan20.rename(columns=str.lower)\n",
    "dfJalan21 = dfJalan21.rename(columns=str.lower)\n",
    "dfJalan22 = dfJalan22.rename(columns=str.lower)"
   ]
  },
  {
   "cell_type": "markdown",
   "metadata": {},
   "source": [
    "Menghapus barisan terakhir di dataframe jalan (barisan terakhir adalah data kumulatif)\n"
   ]
  },
  {
   "cell_type": "code",
   "execution_count": 27,
   "metadata": {},
   "outputs": [],
   "source": [
    "dfJalan19 = dfJalan19.drop(34)\n",
    "dfJalan20 = dfJalan20.drop(34)\n",
    "dfJalan21 = dfJalan21.drop(34)\n",
    "dfJalan22 = dfJalan22.drop(34)"
   ]
  },
  {
   "cell_type": "markdown",
   "metadata": {},
   "source": [
    "Mengubah data type kd_prov menjadi integer"
   ]
  },
  {
   "cell_type": "code",
   "execution_count": 28,
   "metadata": {},
   "outputs": [
    {
     "name": "stdout",
     "output_type": "stream",
     "text": [
      "<class 'pandas.core.frame.DataFrame'>\n",
      "RangeIndex: 34 entries, 0 to 33\n",
      "Data columns (total 11 columns):\n",
      " #   Column          Non-Null Count  Dtype  \n",
      "---  ------          --------------  -----  \n",
      " 0   kd_prov         34 non-null     int32  \n",
      " 1   provinsi        34 non-null     object \n",
      " 2   kondisi_baik    34 non-null     float64\n",
      " 3   baik_%          34 non-null     float64\n",
      " 4   kondisi_sedang  34 non-null     float64\n",
      " 5   sedang_%        34 non-null     float64\n",
      " 6   kondisi_rr      34 non-null     float64\n",
      " 7   rr_%            34 non-null     float64\n",
      " 8   kondisi_rb      34 non-null     float64\n",
      " 9   rb_%            34 non-null     float64\n",
      " 10  total_panjang   34 non-null     float64\n",
      "dtypes: float64(9), int32(1), object(1)\n",
      "memory usage: 2.9+ KB\n",
      "<class 'pandas.core.frame.DataFrame'>\n",
      "RangeIndex: 34 entries, 0 to 33\n",
      "Data columns (total 11 columns):\n",
      " #   Column          Non-Null Count  Dtype  \n",
      "---  ------          --------------  -----  \n",
      " 0   kd_prov         34 non-null     int32  \n",
      " 1   provinsi        34 non-null     object \n",
      " 2   kondisi_baik    33 non-null     float64\n",
      " 3   baik_%          33 non-null     float64\n",
      " 4   kondisi_sedang  33 non-null     float64\n",
      " 5   sedang_%        33 non-null     float64\n",
      " 6   kondisi_rr      33 non-null     float64\n",
      " 7   rr_%            33 non-null     float64\n",
      " 8   kondisi_rb      33 non-null     float64\n",
      " 9   rb_%            32 non-null     float64\n",
      " 10  total_panjang   33 non-null     float64\n",
      "dtypes: float64(9), int32(1), object(1)\n",
      "memory usage: 2.9+ KB\n",
      "<class 'pandas.core.frame.DataFrame'>\n",
      "RangeIndex: 34 entries, 0 to 33\n",
      "Data columns (total 11 columns):\n",
      " #   Column          Non-Null Count  Dtype  \n",
      "---  ------          --------------  -----  \n",
      " 0   kd_prov         34 non-null     int32  \n",
      " 1   provinsi        34 non-null     object \n",
      " 2   kondisi_baik    33 non-null     float64\n",
      " 3   baik_%          33 non-null     float64\n",
      " 4   kondisi_sedang  33 non-null     float64\n",
      " 5   sedang_%        33 non-null     float64\n",
      " 6   kondisi_rr      33 non-null     float64\n",
      " 7   rr_%            33 non-null     float64\n",
      " 8   kondisi_rb      33 non-null     float64\n",
      " 9   rb_%            33 non-null     float64\n",
      " 10  total_panjang   33 non-null     float64\n",
      "dtypes: float64(9), int32(1), object(1)\n",
      "memory usage: 2.9+ KB\n",
      "<class 'pandas.core.frame.DataFrame'>\n",
      "RangeIndex: 34 entries, 0 to 33\n",
      "Data columns (total 11 columns):\n",
      " #   Column          Non-Null Count  Dtype  \n",
      "---  ------          --------------  -----  \n",
      " 0   kd_prov         34 non-null     int32  \n",
      " 1   provinsi        34 non-null     object \n",
      " 2   kondisi_baik    34 non-null     float64\n",
      " 3   baik_%          34 non-null     float64\n",
      " 4   kondisi_sedang  34 non-null     float64\n",
      " 5   sedang_%        34 non-null     float64\n",
      " 6   kondisi_rr      34 non-null     float64\n",
      " 7   rr_%            34 non-null     float64\n",
      " 8   kondisi_rb      34 non-null     float64\n",
      " 9   rb_%            34 non-null     float64\n",
      " 10  total_panjang   34 non-null     float64\n",
      "dtypes: float64(9), int32(1), object(1)\n",
      "memory usage: 2.9+ KB\n"
     ]
    }
   ],
   "source": [
    "dfJalan19['kd_prov'] = dfJalan19['kd_prov'].astype('int')\n",
    "dfJalan20['kd_prov'] = dfJalan20['kd_prov'].astype('int')\n",
    "dfJalan21['kd_prov'] = dfJalan21['kd_prov'].astype('int')\n",
    "dfJalan22['kd_prov'] = dfJalan22['kd_prov'].astype('int')\n",
    "dfJalan19.info()\n",
    "dfJalan20.info()\n",
    "dfJalan21.info()\n",
    "dfJalan22.info()"
   ]
  },
  {
   "cell_type": "markdown",
   "metadata": {},
   "source": [
    "Mengubah nama atribut menjadi lowercase dan mengubah spasi menjadi underscore"
   ]
  },
  {
   "cell_type": "code",
   "execution_count": 29,
   "metadata": {},
   "outputs": [],
   "source": [
    "dfAnggaran22 = dfAnggaran22.rename(columns=str.lower)\n",
    "dfAnggaran21 = dfAnggaran21.rename(columns=str.lower)\n",
    "dfAnggaran20 = dfAnggaran20.rename(columns=str.lower)\n",
    "dfAnggaran19 = dfAnggaran19.rename(columns=str.lower)\n",
    "dfAnggaran22.columns = dfAnggaran22.columns.str.replace(' ', '_', regex=True)\n",
    "dfAnggaran21.columns = dfAnggaran21.columns.str.replace(' ', '_', regex=True)\n",
    "dfAnggaran20.columns = dfAnggaran20.columns.str.replace(' ', '_', regex=True)\n",
    "dfAnggaran19.columns = dfAnggaran19.columns.str.replace(' ', '_', regex=True)"
   ]
  },
  {
   "cell_type": "markdown",
   "metadata": {},
   "source": [
    "Menjadikan atribut \"kd_prov\" menjadi index pada kedua data frame"
   ]
  },
  {
   "cell_type": "code",
   "execution_count": 30,
   "metadata": {},
   "outputs": [
    {
     "name": "stdout",
     "output_type": "stream",
     "text": [
      "<class 'pandas.core.frame.DataFrame'>\n",
      "Index: 34 entries, 11 to 94\n",
      "Data columns (total 10 columns):\n",
      " #   Column          Non-Null Count  Dtype  \n",
      "---  ------          --------------  -----  \n",
      " 0   provinsi        34 non-null     object \n",
      " 1   kondisi_baik    34 non-null     float64\n",
      " 2   baik_%          34 non-null     float64\n",
      " 3   kondisi_sedang  34 non-null     float64\n",
      " 4   sedang_%        34 non-null     float64\n",
      " 5   kondisi_rr      34 non-null     float64\n",
      " 6   rr_%            34 non-null     float64\n",
      " 7   kondisi_rb      34 non-null     float64\n",
      " 8   rb_%            34 non-null     float64\n",
      " 9   total_panjang   34 non-null     float64\n",
      "dtypes: float64(9), object(1)\n",
      "memory usage: 2.8+ KB\n",
      "<class 'pandas.core.frame.DataFrame'>\n",
      "Index: 34 entries, 11 to 94\n",
      "Data columns (total 10 columns):\n",
      " #   Column          Non-Null Count  Dtype  \n",
      "---  ------          --------------  -----  \n",
      " 0   provinsi        34 non-null     object \n",
      " 1   kondisi_baik    33 non-null     float64\n",
      " 2   baik_%          33 non-null     float64\n",
      " 3   kondisi_sedang  33 non-null     float64\n",
      " 4   sedang_%        33 non-null     float64\n",
      " 5   kondisi_rr      33 non-null     float64\n",
      " 6   rr_%            33 non-null     float64\n",
      " 7   kondisi_rb      33 non-null     float64\n",
      " 8   rb_%            33 non-null     float64\n",
      " 9   total_panjang   33 non-null     float64\n",
      "dtypes: float64(9), object(1)\n",
      "memory usage: 2.8+ KB\n",
      "<class 'pandas.core.frame.DataFrame'>\n",
      "Index: 34 entries, 11 to 94\n",
      "Data columns (total 10 columns):\n",
      " #   Column          Non-Null Count  Dtype  \n",
      "---  ------          --------------  -----  \n",
      " 0   provinsi        34 non-null     object \n",
      " 1   kondisi_baik    33 non-null     float64\n",
      " 2   baik_%          33 non-null     float64\n",
      " 3   kondisi_sedang  33 non-null     float64\n",
      " 4   sedang_%        33 non-null     float64\n",
      " 5   kondisi_rr      33 non-null     float64\n",
      " 6   rr_%            33 non-null     float64\n",
      " 7   kondisi_rb      33 non-null     float64\n",
      " 8   rb_%            32 non-null     float64\n",
      " 9   total_panjang   33 non-null     float64\n",
      "dtypes: float64(9), object(1)\n",
      "memory usage: 2.8+ KB\n",
      "<class 'pandas.core.frame.DataFrame'>\n",
      "Index: 34 entries, 11 to 94\n",
      "Data columns (total 10 columns):\n",
      " #   Column          Non-Null Count  Dtype  \n",
      "---  ------          --------------  -----  \n",
      " 0   provinsi        34 non-null     object \n",
      " 1   kondisi_baik    34 non-null     float64\n",
      " 2   baik_%          34 non-null     float64\n",
      " 3   kondisi_sedang  34 non-null     float64\n",
      " 4   sedang_%        34 non-null     float64\n",
      " 5   kondisi_rr      34 non-null     float64\n",
      " 6   rr_%            34 non-null     float64\n",
      " 7   kondisi_rb      34 non-null     float64\n",
      " 8   rb_%            34 non-null     float64\n",
      " 9   total_panjang   34 non-null     float64\n",
      "dtypes: float64(9), object(1)\n",
      "memory usage: 2.8+ KB\n"
     ]
    }
   ],
   "source": [
    "dfJalan22 = dfJalan22.set_index(\"kd_prov\")\n",
    "dfJalan21 = dfJalan21.set_index(\"kd_prov\")\n",
    "dfJalan20 = dfJalan20.set_index(\"kd_prov\")\n",
    "dfJalan19 = dfJalan19.set_index(\"kd_prov\")\n",
    "dfJalan22.info()\n",
    "dfJalan21.info()\n",
    "dfJalan20.info()\n",
    "dfJalan19.info()"
   ]
  },
  {
   "cell_type": "code",
   "execution_count": 31,
   "metadata": {},
   "outputs": [
    {
     "name": "stdout",
     "output_type": "stream",
     "text": [
      "<class 'pandas.core.frame.DataFrame'>\n",
      "Index: 34 entries, 11 to 94\n",
      "Data columns (total 3 columns):\n",
      " #   Column                   Non-Null Count  Dtype  \n",
      "---  ------                   --------------  -----  \n",
      " 0   provinsi                 34 non-null     object \n",
      " 1   anggaran_belanja_modal   34 non-null     float64\n",
      " 2   realisasi_belanja_modal  34 non-null     float64\n",
      "dtypes: float64(2), object(1)\n",
      "memory usage: 1.1+ KB\n",
      "<class 'pandas.core.frame.DataFrame'>\n",
      "Index: 34 entries, 11 to 94\n",
      "Data columns (total 3 columns):\n",
      " #   Column                   Non-Null Count  Dtype  \n",
      "---  ------                   --------------  -----  \n",
      " 0   provinsi                 34 non-null     object \n",
      " 1   anggaran_belanja_modal   34 non-null     float64\n",
      " 2   realisasi_belanja_modal  34 non-null     float64\n",
      "dtypes: float64(2), object(1)\n",
      "memory usage: 1.1+ KB\n",
      "<class 'pandas.core.frame.DataFrame'>\n",
      "Index: 34 entries, 11 to 94\n",
      "Data columns (total 3 columns):\n",
      " #   Column                   Non-Null Count  Dtype  \n",
      "---  ------                   --------------  -----  \n",
      " 0   provinsi                 34 non-null     object \n",
      " 1   anggaran_belanja_modal   34 non-null     float64\n",
      " 2   realisasi_belanja_modal  34 non-null     float64\n",
      "dtypes: float64(2), object(1)\n",
      "memory usage: 1.1+ KB\n",
      "<class 'pandas.core.frame.DataFrame'>\n",
      "Index: 998 entries, 11.0 to nan\n",
      "Data columns (total 3 columns):\n",
      " #   Column                   Non-Null Count  Dtype  \n",
      "---  ------                   --------------  -----  \n",
      " 0   provinsi                 34 non-null     object \n",
      " 1   anggaran_belanja_modal   34 non-null     float64\n",
      " 2   realisasi_belanja_modal  34 non-null     float64\n",
      "dtypes: float64(2), object(1)\n",
      "memory usage: 31.2+ KB\n"
     ]
    }
   ],
   "source": [
    "dfAnggaran22 = dfAnggaran22.set_index(\"kd_prov\")\n",
    "dfAnggaran21 = dfAnggaran21.set_index(\"kd_prov\")\n",
    "dfAnggaran20 = dfAnggaran20.set_index(\"kd_prov\")\n",
    "dfAnggaran19 = dfAnggaran19.set_index(\"kd_prov\")\n",
    "dfAnggaran22.info()\n",
    "dfAnggaran21.info()\n",
    "dfAnggaran20.info()\n",
    "dfAnggaran19.info()"
   ]
  },
  {
   "cell_type": "markdown",
   "metadata": {},
   "source": [
    "Menghapus data \"DKI Jakarta\" karena data tersebut kosong pada file Kondisi Jalan"
   ]
  },
  {
   "cell_type": "code",
   "execution_count": 32,
   "metadata": {},
   "outputs": [],
   "source": [
    "dfJalan22 = dfJalan22.drop(31)\n",
    "dfJalan21 = dfJalan21.drop(31)\n",
    "dfJalan20 = dfJalan20.drop(31)\n",
    "dfJalan19 = dfJalan19.drop(31)\n",
    "dfAnggaran22 = dfAnggaran22.drop(31)\n",
    "dfAnggaran21 = dfAnggaran21.drop(31)\n",
    "dfAnggaran20 = dfAnggaran20.drop(31)\n",
    "dfAnggaran19 = dfAnggaran19.drop(31)"
   ]
  },
  {
   "cell_type": "markdown",
   "metadata": {},
   "source": [
    "Menggolongkan jumlah penerimaan dari tiap provinsi menjadi beberapa golongan\n",
    "\n",
    "gol I       = [0, 2.500)\n",
    "<br>\n",
    "gol II       = [2.500, 5.000)\n",
    "<br>\n",
    "gol III      = [5.000, 7.500)\n",
    "<br>\n",
    "gol IV     = [7.500, 10.000)\n",
    "<br>\n",
    "gol V      = [10.000, 20.000)"
   ]
  },
  {
   "cell_type": "code",
   "execution_count": 33,
   "metadata": {},
   "outputs": [],
   "source": [
    "range_category = [0, 2500, 5000, 7500, 10000, 20000]\n",
    "category = ['I', 'II', 'III', 'IV', 'V']\n",
    "\n",
    "dfAnggaran22['gol_anggaran'] = pd.cut(dfAnggaran22['realisasi_belanja_modal'], bins=range_category, labels=category, right=False)\n",
    "dfAnggaran21['gol_anggaran'] = pd.cut(dfAnggaran21['realisasi_belanja_modal'], bins=range_category, labels=category, right=False)\n",
    "dfAnggaran20['gol_anggaran'] = pd.cut(dfAnggaran20['realisasi_belanja_modal'], bins=range_category, labels=category, right=False)\n",
    "dfAnggaran19['gol_anggaran'] = pd.cut(dfAnggaran19['realisasi_belanja_modal'], bins=range_category, labels=category, right=False)"
   ]
  },
  {
   "cell_type": "markdown",
   "metadata": {},
   "source": [
    "Merge/join kedua data frame berdasarkan kd_prov"
   ]
  },
  {
   "cell_type": "code",
   "execution_count": 34,
   "metadata": {},
   "outputs": [],
   "source": [
    "df3 = pd.merge(dfJalan22, dfAnggaran22, how=\"left\", on=[\"kd_prov\"])\n",
    "df3 = df3.sort_values(by='realisasi_belanja_modal')\n",
    "\n",
    "df4 = pd.merge(dfJalan21, dfAnggaran21, how=\"left\", on=[\"kd_prov\"])\n",
    "df4 = df4.sort_values(by='realisasi_belanja_modal')\n",
    "\n",
    "df5 = pd.merge(dfJalan20, dfAnggaran20, how=\"left\", on=[\"kd_prov\"])\n",
    "df5 = df5.sort_values(by='realisasi_belanja_modal')\n",
    "\n",
    "df6 = pd.merge(dfJalan19, dfAnggaran19, how=\"left\", on=[\"kd_prov\"])\n",
    "df6 = df6.sort_values(by='realisasi_belanja_modal')\n",
    "\n"
   ]
  },
  {
   "cell_type": "markdown",
   "metadata": {},
   "source": [
    "Rata-rata persentase kondisi jalan dan anggaran seluruh provinsi per tahun"
   ]
  },
  {
   "cell_type": "code",
   "execution_count": 35,
   "metadata": {},
   "outputs": [
    {
     "data": {
      "text/html": [
       "<div>\n",
       "<style scoped>\n",
       "    .dataframe tbody tr th:only-of-type {\n",
       "        vertical-align: middle;\n",
       "    }\n",
       "\n",
       "    .dataframe tbody tr th {\n",
       "        vertical-align: top;\n",
       "    }\n",
       "\n",
       "    .dataframe thead th {\n",
       "        text-align: right;\n",
       "    }\n",
       "</style>\n",
       "<table border=\"1\" class=\"dataframe\">\n",
       "  <thead>\n",
       "    <tr style=\"text-align: right;\">\n",
       "      <th></th>\n",
       "      <th>baik_%</th>\n",
       "      <th>sedang_%</th>\n",
       "      <th>rr_%</th>\n",
       "      <th>rb_%</th>\n",
       "      <th>tahun</th>\n",
       "      <th>realisasi_belanja_modal</th>\n",
       "    </tr>\n",
       "  </thead>\n",
       "  <tbody>\n",
       "    <tr>\n",
       "      <th>0</th>\n",
       "      <td>46.349394</td>\n",
       "      <td>47.004848</td>\n",
       "      <td>4.861212</td>\n",
       "      <td>1.784848</td>\n",
       "      <td>2019</td>\n",
       "      <td>62.836939</td>\n",
       "    </tr>\n",
       "    <tr>\n",
       "      <th>1</th>\n",
       "      <td>40.520000</td>\n",
       "      <td>51.512727</td>\n",
       "      <td>5.322121</td>\n",
       "      <td>2.134375</td>\n",
       "      <td>2020</td>\n",
       "      <td>46.787524</td>\n",
       "    </tr>\n",
       "    <tr>\n",
       "      <th>2</th>\n",
       "      <td>37.410606</td>\n",
       "      <td>55.039394</td>\n",
       "      <td>5.394545</td>\n",
       "      <td>2.152727</td>\n",
       "      <td>2021</td>\n",
       "      <td>49.090618</td>\n",
       "    </tr>\n",
       "    <tr>\n",
       "      <th>3</th>\n",
       "      <td>38.921212</td>\n",
       "      <td>53.727576</td>\n",
       "      <td>5.251818</td>\n",
       "      <td>2.097273</td>\n",
       "      <td>2022</td>\n",
       "      <td>54.203464</td>\n",
       "    </tr>\n",
       "  </tbody>\n",
       "</table>\n",
       "</div>"
      ],
      "text/plain": [
       "      baik_%   sedang_%      rr_%      rb_%  tahun  realisasi_belanja_modal\n",
       "0  46.349394  47.004848  4.861212  1.784848   2019                62.836939\n",
       "1  40.520000  51.512727  5.322121  2.134375   2020                46.787524\n",
       "2  37.410606  55.039394  5.394545  2.152727   2021                49.090618\n",
       "3  38.921212  53.727576  5.251818  2.097273   2022                54.203464"
      ]
     },
     "execution_count": 35,
     "metadata": {},
     "output_type": "execute_result"
    }
   ],
   "source": [
    "# Ambil rata-rata persentase kondisi jalan tiap tahun\n",
    "dfJalanMean19 = pd.DataFrame([dfJalan19[[\"baik_%\", \"sedang_%\", \"rr_%\", \"rb_%\"]].mean()])\n",
    "dfJalanMean20 = pd.DataFrame([dfJalan20[[\"baik_%\", \"sedang_%\", \"rr_%\", \"rb_%\"]].mean()])\n",
    "dfJalanMean21 = pd.DataFrame([dfJalan21[[\"baik_%\", \"sedang_%\", \"rr_%\", \"rb_%\"]].mean()])\n",
    "dfJalanMean22 = pd.DataFrame([dfJalan22[[\"baik_%\", \"sedang_%\", \"rr_%\", \"rb_%\"]].mean()])\n",
    "\n",
    "dfJalanMean19[\"tahun\"] = 2019\n",
    "dfJalanMean20[\"tahun\"] = 2020\n",
    "dfJalanMean21[\"tahun\"] = 2021\n",
    "dfJalanMean22[\"tahun\"] = 2022\n",
    "\n",
    "dfJalanMeanAll = pd.concat([dfJalanMean19, dfJalanMean20, dfJalanMean21, dfJalanMean22])\n",
    "dfJalanMeanAll.reset_index(drop=True, inplace=True)\n",
    "\n",
    "# Ambil rata-rata realisasi anggaran tiap tahun\n",
    "dfAnggaranMean19 = pd.DataFrame([dfAnggaran19[[\"realisasi_belanja_modal\"]].mean()])\n",
    "dfAnggaranMean20 = pd.DataFrame([dfAnggaran20[[\"realisasi_belanja_modal\"]].mean()])\n",
    "dfAnggaranMean21 = pd.DataFrame([dfAnggaran21[[\"realisasi_belanja_modal\"]].mean()])\n",
    "dfAnggaranMean22 = pd.DataFrame([dfAnggaran22[[\"realisasi_belanja_modal\"]].mean()])\n",
    "\n",
    "# Disederhanakan dengan dibagi 100 agar terlihat rapi saat diplot\n",
    "dfAnggaranMean19[\"realisasi_belanja_modal\"] = dfAnggaranMean19[\"realisasi_belanja_modal\"]/100\n",
    "dfAnggaranMean20[\"realisasi_belanja_modal\"] = dfAnggaranMean20[\"realisasi_belanja_modal\"]/100\n",
    "dfAnggaranMean21[\"realisasi_belanja_modal\"] = dfAnggaranMean21[\"realisasi_belanja_modal\"]/100\n",
    "dfAnggaranMean22[\"realisasi_belanja_modal\"] = dfAnggaranMean22[\"realisasi_belanja_modal\"]/100\n",
    "\n",
    "dfAnggaranMean19[\"tahun\"] = 2019\n",
    "dfAnggaranMean20[\"tahun\"] = 2020\n",
    "dfAnggaranMean21[\"tahun\"] = 2021\n",
    "dfAnggaranMean22[\"tahun\"] = 2022\n",
    "\n",
    "dfAnggaranMeanAll = pd.concat([dfAnggaranMean19, dfAnggaranMean20, dfAnggaranMean21, dfAnggaranMean22])\n",
    "dfAnggaranMeanAll.reset_index(drop=True, inplace=True)\n",
    "\n",
    "dfMeanAll = pd.merge(dfJalanMeanAll, dfAnggaranMeanAll, how=\"left\", on=[\"tahun\"])\n",
    "\n",
    "dfMeanAll.head(4)"
   ]
  },
  {
   "cell_type": "markdown",
   "metadata": {},
   "source": [
    "## Representasi Data Dari Tahun ke Tahun"
   ]
  },
  {
   "cell_type": "markdown",
   "metadata": {},
   "source": [
    "Membandingkan persentase-persentase kondisi jalan dengan realisasi anggaran tiap tahun"
   ]
  },
  {
   "cell_type": "code",
   "execution_count": 36,
   "metadata": {},
   "outputs": [
    {
     "data": {
      "text/plain": [
       "<Axes: xlabel='tahun'>"
      ]
     },
     "execution_count": 36,
     "metadata": {},
     "output_type": "execute_result"
    },
    {
     "data": {
      "image/png": "[encoded data removed]",
      "text/plain": [
       "<Figure size 640x480 with 1 Axes>"
      ]
     },
     "metadata": {},
     "output_type": "display_data"
    }
   ],
   "source": [
    "dfJalanTahun = dfMeanAll.groupby(['tahun'], observed=False)[['realisasi_belanja_modal','baik_%', 'sedang_%', 'rr_%', 'rb_%']].mean()\n",
    "dfJalanTahun.plot(kind='line')"
   ]
  },
  {
   "cell_type": "markdown",
   "metadata": {},
   "source": [
    "## Analisis\n",
    "Dari tren tersebut, dapat dilihat bahwa terjadi penurunan realisasi anggaran pada tahun 2020 yang kemungkinan besar disebabkan oleh pandemi Covid-19. Penurunan realisasi anggaran ini juga diikuti oleh penurunan persentase kondisi jalan dengan kategori baik dan kenaikan persentase kondisi jalan dengan kategori sedang. Sedangkan untuk kategori rusak ringan (rr) dan rusak berat (rb) persentasenya stabil. Dapat disimpulkan bahwa penurunan realisasi anggaran menyebabkan penurunan kualitas jalan. Dengan kata lain, hubungan realisasi anggaran dan kondisi jalan cenderung selaras/liner. Namun, dapat dilihat bahwa pada tahun 2021 dan 2022 sudah terjadi kenaikan realisasi anggaran sehingga dari kesimpulan tadi dapat diprediksi bahwa kondisi jalan juga akan mulai membaik."
   ]
  },
  {
   "cell_type": "markdown",
   "metadata": {},
   "source": [
    "## Representasi Data 2022"
   ]
  },
  {
   "cell_type": "markdown",
   "metadata": {},
   "source": [
    "Membandingkan persentase semua kategori kondisi jalan pada tiap golongan pemasukan"
   ]
  },
  {
   "cell_type": "code",
   "execution_count": 37,
   "metadata": {},
   "outputs": [
    {
     "data": {
      "text/plain": [
       "<Axes: xlabel='gol_anggaran'>"
      ]
     },
     "execution_count": 37,
     "metadata": {},
     "output_type": "execute_result"
    },
    {
     "data": {
      "image/png": "[encoded data removed]",
      "text/plain": [
       "<Figure size 640x480 with 1 Axes>"
      ]
     },
     "metadata": {},
     "output_type": "display_data"
    }
   ],
   "source": [
    "dfGroup = df3.groupby(['gol_anggaran'], observed=False)[['baik_%', 'sedang_%', 'rr_%', 'rb_%']].mean()\n",
    "dfGroup.plot(kind='bar')"
   ]
  },
  {
   "cell_type": "markdown",
   "metadata": {},
   "source": [
    "- Dapat Dilihat diatas Bar baik_% menyatakan persentase jalan yang dianggap baik dari keseluruhan jalan, sedang_% menyatakan persentase jalan yang dianggap standard/cukup baik dari total jalan.\n",
    "\n",
    "- rr_% dan rb_% merepresentasikan persentase rusak ringan dan rusak berat secara respektif"
   ]
  },
  {
   "cell_type": "markdown",
   "metadata": {},
   "source": [
    "Persebaran total_panjang berdasarkan gol_anggaran"
   ]
  },
  {
   "cell_type": "code",
   "execution_count": 38,
   "metadata": {},
   "outputs": [
    {
     "data": {
      "text/plain": [
       "<Axes: xlabel='gol_anggaran', ylabel='total_panjang'>"
      ]
     },
     "execution_count": 38,
     "metadata": {},
     "output_type": "execute_result"
    },
    {
     "data": {
      "image/png": "[encoded data removed]",
      "text/plain": [
       "<Figure size 640x480 with 1 Axes>"
      ]
     },
     "metadata": {},
     "output_type": "display_data"
    }
   ],
   "source": [
    "sns.boxplot(x=\"gol_anggaran\", y=\"total_panjang\", data=df3)"
   ]
  },
  {
   "cell_type": "markdown",
   "metadata": {},
   "source": [
    "- Dapat dilihat bahwa perkembangan golongan pemasukan berbanding total panjang cenderung linier berbanding lurus (semakin besar golongan pemasukan, maka total panjang cenderung semakin besar)"
   ]
  },
  {
   "cell_type": "markdown",
   "metadata": {},
   "source": [
    "Persebaran Persentase Jalan baik berdasarkan gol_anggaran"
   ]
  },
  {
   "cell_type": "code",
   "execution_count": 39,
   "metadata": {},
   "outputs": [
    {
     "data": {
      "text/plain": [
       "<Axes: xlabel='gol_anggaran', ylabel='baik_%'>"
      ]
     },
     "execution_count": 39,
     "metadata": {},
     "output_type": "execute_result"
    },
    {
     "data": {
      "image/png": "[encoded data removed]",
      "text/plain": [
       "<Figure size 640x480 with 1 Axes>"
      ]
     },
     "metadata": {},
     "output_type": "display_data"
    }
   ],
   "source": [
    "sns.boxplot(x=\"gol_anggaran\", y=\"baik_%\", data=df3)"
   ]
  },
  {
   "cell_type": "markdown",
   "metadata": {},
   "source": [
    "- Persentase Jalan Baik per golongan lumayan bervariasi, dengan variasi terbanyak yaitu golongan pemasukan 1, dan yang paling konsisten golongan 4\n",
    "- Boxplot menunjukkan bahwa persebaran persentasi jalan dengan kondisi baik ada di golongan 1, diikuti dengan golongan 4, sementara golongan yang memiliki persentase baik paling sedikit adalah golongan 3\n",
    "\n",
    "Rata rata per golongan : \n",
    "- I = ~49%\n",
    "- II = ~34%\n",
    "- III = ~30%\n",
    "- IV = ~41%\n",
    "- V = ~44%"
   ]
  },
  {
   "cell_type": "markdown",
   "metadata": {},
   "source": [
    "Persebaran Persentase Jalan sedang/cukup baik berdasarkan gol_anggaran"
   ]
  },
  {
   "cell_type": "code",
   "execution_count": 40,
   "metadata": {},
   "outputs": [
    {
     "data": {
      "text/plain": [
       "<Axes: xlabel='gol_anggaran', ylabel='sedang_%'>"
      ]
     },
     "execution_count": 40,
     "metadata": {},
     "output_type": "execute_result"
    },
    {
     "data": {
      "image/png": "[encoded data removed]",
      "text/plain": [
       "<Figure size 640x480 with 1 Axes>"
      ]
     },
     "metadata": {},
     "output_type": "display_data"
    }
   ],
   "source": [
    "sns.boxplot(x=\"gol_anggaran\", y=\"sedang_%\", data=df3)"
   ]
  },
  {
   "cell_type": "markdown",
   "metadata": {},
   "source": [
    "- Persentase Jalan Sedang Per-golongan cenderung membuat arch dengan golongan 3 sebagai golongan yang memiliki persentase jalan sedang paling banyak, sementara persebaran paling sedikit ada di golongan 1, apabila kita memperhatikan persebaran jalan baik, golongan 3 berada di paling akhir karena mayoritasnya berada di jalan sedang.\n",
    "\n",
    "Rata rata per golongan : \n",
    "- I = ~42%\n",
    "- II = ~60%\n",
    "- III = ~62%\n",
    "- IV = ~48%\n",
    "- V = ~51%"
   ]
  },
  {
   "cell_type": "markdown",
   "metadata": {},
   "source": [
    "Persebaran Persentase Jalan rusak ringan berdasarkan gol_anggaran"
   ]
  },
  {
   "cell_type": "code",
   "execution_count": 41,
   "metadata": {},
   "outputs": [
    {
     "data": {
      "text/plain": [
       "<Axes: xlabel='gol_anggaran', ylabel='rr_%'>"
      ]
     },
     "execution_count": 41,
     "metadata": {},
     "output_type": "execute_result"
    },
    {
     "data": {
      "image/png": "[encoded data removed]",
      "text/plain": [
       "<Figure size 640x480 with 1 Axes>"
      ]
     },
     "metadata": {},
     "output_type": "display_data"
    }
   ],
   "source": [
    "sns.boxplot(x=\"gol_anggaran\", y=\"rr_%\", data=df3)"
   ]
  },
  {
   "cell_type": "markdown",
   "metadata": {},
   "source": [
    "- Persentase Jalan Rusak ringan per golongan cenderung didominasi oleh golongan 3, dan yang memiliki rata rata paling sedikit adalah golongan 5\n",
    "\n",
    "Rata rata per golongan : \n",
    "- I = ~4%\n",
    "- II = ~4%\n",
    "- III = ~7%\n",
    "- IV = ~7%\n",
    "- V = ~2.5%"
   ]
  },
  {
   "cell_type": "markdown",
   "metadata": {},
   "source": [
    "Persebaran Persentase Jalan rusak berat berdasarkan gol_anggaran"
   ]
  },
  {
   "cell_type": "code",
   "execution_count": 42,
   "metadata": {},
   "outputs": [
    {
     "data": {
      "text/plain": [
       "<Axes: xlabel='gol_anggaran', ylabel='rb_%'>"
      ]
     },
     "execution_count": 42,
     "metadata": {},
     "output_type": "execute_result"
    },
    {
     "data": {
      "image/png": "[encoded data removed]",
      "text/plain": [
       "<Figure size 640x480 with 1 Axes>"
      ]
     },
     "metadata": {},
     "output_type": "display_data"
    }
   ],
   "source": [
    "sns.boxplot(x=\"gol_anggaran\", y=\"rb_%\", data=df3)"
   ]
  },
  {
   "cell_type": "markdown",
   "metadata": {},
   "source": [
    "- Persentase Jalan Rusak berat didominasi oleh golongan 4, dengan golongan 5 sebagai kontribusi jalan rusak terkecil\n",
    "\n",
    "Rata rata per golongan : \n",
    "- I = ~2%\n",
    "- II = ~1.3%\n",
    "- III = ~1%\n",
    "- IV = ~1,8%\n",
    "- V = ~0.2%"
   ]
  },
  {
   "cell_type": "markdown",
   "metadata": {},
   "source": [
    "## Analisis\n",
    "Dapat dilihat menurut trend grafik pemasukan dan total jalan bahwa relasi antara pemasukan dan total jalan per daerah berbanding lurus (linear). Sementara itu, relasi pemasukan dan kemantapan jalan juga berbanding lurus. Secara umum, jika semakin tinggi pemasukan di suatu daerah, maka semakin tinggi juga kemantapan dan total jalannya.\n",
    "\n",
    "Trend Data:\n",
    "- I     = ~49%, ~42%, ~4%  , ~2%   (Mayoritas Baik)\n",
    "- II    = ~34%, ~60%, ~4%  , ~1.3% (Mayoritas Sedang)\n",
    "- III   = ~30%, ~62%, ~7%  , ~1%   (Mayoritas Sedang)\n",
    "- IV    = ~41%, ~48%, ~7%  , ~1.8% (Sedang dan Baik relatif konsisten)\n",
    "- V     = ~44%, ~51%, ~2.5%, ~0.2% (Sedang dan Baik relatif konsisten dengan rusak berat paling sedikit)\n",
    "\n",
    "Dapat disimpulkan bahwa Semakin besar anggaran, semakin konsisten pula kualitas perbaikan jalan, mayoritas jalan baik berada di golongan 1, namun golongan 1 juga memiliki persentase rusak yang lumayan besar, hampir sama dengan golongan 2. Golongan ke 5 memiliki tingkat kerusakan paling sedikit dan persebaran konsisten. sementara itu, golongan ke 3 merupakan golongan yang memiliki rasio jalan baik paling buruk.\n",
    "\n",
    "Apabila dilihat dari konsistensi dan penggunaan anggaran untuk perbaikan jalan, golongan 5 adalah golongan yang memiliki kualitas jalan yang paling konsisten.\n"
   ]
  },
  {
   "cell_type": "markdown",
   "metadata": {},
   "source": [
    "## Representasi Data 2021"
   ]
  },
  {
   "cell_type": "markdown",
   "metadata": {},
   "source": [
    "Membandingkan persentase semua kategori kondisi jalan pada tiap golongan pemasukan"
   ]
  },
  {
   "cell_type": "code",
   "execution_count": 43,
   "metadata": {},
   "outputs": [
    {
     "data": {
      "text/plain": [
       "<Axes: xlabel='gol_anggaran'>"
      ]
     },
     "execution_count": 43,
     "metadata": {},
     "output_type": "execute_result"
    },
    {
     "data": {
      "image/png": "[encoded data removed]",
      "text/plain": [
       "<Figure size 640x480 with 1 Axes>"
      ]
     },
     "metadata": {},
     "output_type": "display_data"
    }
   ],
   "source": [
    "dfGroup21 = df4.groupby(['gol_anggaran'], observed=False)[['baik_%', 'sedang_%', 'rr_%', 'rb_%']].mean()\n",
    "dfGroup21.plot(kind='bar')"
   ]
  },
  {
   "cell_type": "markdown",
   "metadata": {},
   "source": [
    "- Dapat Dilihat diatas Bar baik_% menyatakan persentase jalan yang dianggap baik dari keseluruhan jalan, sedang_% menyatakan persentase jalan yang dianggap standard/cukup baik dari total jalan.\n",
    "\n",
    "- rr_% dan rb_% merepresentasikan persentase rusak ringan dan rusak berat secara respektif"
   ]
  },
  {
   "cell_type": "markdown",
   "metadata": {},
   "source": [
    "Persebaran total_panjang berdasarkan gol_anggaran"
   ]
  },
  {
   "cell_type": "code",
   "execution_count": 44,
   "metadata": {},
   "outputs": [
    {
     "data": {
      "text/plain": [
       "<Axes: xlabel='gol_anggaran', ylabel='total_panjang'>"
      ]
     },
     "execution_count": 44,
     "metadata": {},
     "output_type": "execute_result"
    },
    {
     "data": {
      "image/png": "[encoded data removed]",
      "text/plain": [
       "<Figure size 640x480 with 1 Axes>"
      ]
     },
     "metadata": {},
     "output_type": "display_data"
    }
   ],
   "source": [
    "sns.boxplot(x=\"gol_anggaran\", y=\"total_panjang\", data=df4)"
   ]
  },
  {
   "cell_type": "markdown",
   "metadata": {},
   "source": [
    "- Dapat dilihat bahwa perkembangan golongan pemasukan berbanding total panjang cenderung linier berbanding lurus (semakin besar golongan pemasukan, maka total panjang cenderung semakin besar)"
   ]
  },
  {
   "cell_type": "markdown",
   "metadata": {},
   "source": [
    "Persebaran Persentase Jalan baik berdasarkan gol_anggaran"
   ]
  },
  {
   "cell_type": "code",
   "execution_count": 45,
   "metadata": {},
   "outputs": [
    {
     "data": {
      "text/plain": [
       "<Axes: xlabel='gol_anggaran', ylabel='baik_%'>"
      ]
     },
     "execution_count": 45,
     "metadata": {},
     "output_type": "execute_result"
    },
    {
     "data": {
      "image/png": "[encoded data removed]",
      "text/plain": [
       "<Figure size 640x480 with 1 Axes>"
      ]
     },
     "metadata": {},
     "output_type": "display_data"
    }
   ],
   "source": [
    "sns.boxplot(x=\"gol_anggaran\", y=\"baik_%\", data=df4)"
   ]
  },
  {
   "cell_type": "markdown",
   "metadata": {},
   "source": [
    "- Persentase Jalan Baik per golongan lumayan bervariasi, dengan variasi terbanyak yaitu golongan pemasukan 1, dan yang paling konsisten golongan 2\n",
    "- Boxplot menunjukkan bahwa persebaran persentasi jalan dengan kondisi baik ada di golongan 1, diikuti dengan golongan 4, sementara golongan yang memiliki persentase baik paling sedikit adalah golongan 3\n",
    "\n",
    "Rata rata per golongan : \n",
    "- I = ~63%\n",
    "- II = ~35%\n",
    "- III = ~33%\n",
    "- IV = ~48%\n",
    "- V = ~33%"
   ]
  },
  {
   "cell_type": "markdown",
   "metadata": {},
   "source": [
    "Persebaran Persentase Jalan sedang/cukup baik berdasarkan gol_anggaran"
   ]
  },
  {
   "cell_type": "code",
   "execution_count": 46,
   "metadata": {},
   "outputs": [
    {
     "data": {
      "text/plain": [
       "<Axes: xlabel='gol_anggaran', ylabel='sedang_%'>"
      ]
     },
     "execution_count": 46,
     "metadata": {},
     "output_type": "execute_result"
    },
    {
     "data": {
      "image/png": "[encoded data removed]",
      "text/plain": [
       "<Figure size 640x480 with 1 Axes>"
      ]
     },
     "metadata": {},
     "output_type": "display_data"
    }
   ],
   "source": [
    "sns.boxplot(x=\"gol_anggaran\", y=\"sedang_%\", data=df4)"
   ]
  },
  {
   "cell_type": "markdown",
   "metadata": {},
   "source": [
    "- Persentase Jalan Sedang Per-golongan membuat arch dengan golongan 2 sebagai golongan yang memiliki persentase jalan sedang paling banyak, sementara persebaran paling sedikit ada di golongan 1.\n",
    "\n",
    "Rata rata per golongan : \n",
    "- I = ~34%\n",
    "- II = ~59%\n",
    "- III = ~65%\n",
    "- IV = ~56%\n",
    "- V = ~60%"
   ]
  },
  {
   "cell_type": "markdown",
   "metadata": {},
   "source": [
    "Persebaran Persentase Jalan rusak ringan berdasarkan gol_anggaran"
   ]
  },
  {
   "cell_type": "code",
   "execution_count": 47,
   "metadata": {},
   "outputs": [
    {
     "data": {
      "text/plain": [
       "<Axes: xlabel='gol_anggaran', ylabel='rr_%'>"
      ]
     },
     "execution_count": 47,
     "metadata": {},
     "output_type": "execute_result"
    },
    {
     "data": {
      "image/png": "[encoded data removed]",
      "text/plain": [
       "<Figure size 640x480 with 1 Axes>"
      ]
     },
     "metadata": {},
     "output_type": "display_data"
    }
   ],
   "source": [
    "sns.boxplot(x=\"gol_anggaran\", y=\"rr_%\", data=df4)"
   ]
  },
  {
   "cell_type": "markdown",
   "metadata": {},
   "source": [
    "- Persentase Jalan Rusak Ringan Per-golongan membuat arch dengan golongan 3 sebagai golongan yang memiliki paling banyak, sementara rata rata paling sedikit ada di golongan 1.\n",
    "\n",
    "Rata rata per golongan : \n",
    "- I = ~4%\n",
    "- II = ~4%\n",
    "- III = ~8%\n",
    "- IV = ~6%\n",
    "- V = ~7%"
   ]
  },
  {
   "cell_type": "markdown",
   "metadata": {},
   "source": [
    "Persebaran Persentase Jalan rusak berat berdasarkan gol_anggaran"
   ]
  },
  {
   "cell_type": "code",
   "execution_count": 48,
   "metadata": {},
   "outputs": [
    {
     "data": {
      "text/plain": [
       "<Axes: xlabel='gol_anggaran', ylabel='rb_%'>"
      ]
     },
     "execution_count": 48,
     "metadata": {},
     "output_type": "execute_result"
    },
    {
     "data": {
      "image/png": "[encoded data removed]",
      "text/plain": [
       "<Figure size 640x480 with 1 Axes>"
      ]
     },
     "metadata": {},
     "output_type": "display_data"
    }
   ],
   "source": [
    "sns.boxplot(x=\"gol_anggaran\", y=\"rb_%\", data=df4)"
   ]
  },
  {
   "cell_type": "markdown",
   "metadata": {},
   "source": [
    "- Persentase Jalan Rusak berat didominasi oleh golongan 3, dan untuk kontribusi jalan rusak terkecil adalah golongan 5\n",
    "\n",
    "Rata rata per golongan : \n",
    "- I = ~0.4%\n",
    "- II = ~2%\n",
    "- III = ~1.9%\n",
    "- IV = ~1%\n",
    "- V = ~1%"
   ]
  },
  {
   "cell_type": "markdown",
   "metadata": {},
   "source": [
    "# Analisis\n",
    "Dapat dilihat menurut trend grafik pemasukan dan total jalan bahwa relasi antara pemasukan dan total jalan per daerah berbanding lurus (linear). Sementara itu, relasi pemasukan dan kemantapan jalan juga berbanding lurus. Secara umum, jika semakin tinggi pemasukan di suatu daerah, maka semakin tinggi juga kemantapan dan total jalannya.\n",
    "\n",
    "Trend Data:\n",
    "- I     = ~63%, ~34%, ~4%, ~0.4% (Mayoritas Sedang, rusak berat paling sedikit)\n",
    "- II    = ~35%, ~59%, ~4%, ~2%   (Mayoritas Sedang)\n",
    "- III   = ~33%, ~65%, ~8%, ~1.9% (Mayoritas Baik)\n",
    "- IV    = ~48%, ~56%, ~6%, ~1%   (Mayoritas Sedang)\n",
    "- V     = ~33%, ~60%, ~7%, ~1%   (Mayoritas Sedang)\n",
    "\n",
    "Disimpulkan bahwa Semakin besar anggaran, semakin konsisten pula kualitas perbaikan jalan, kondisi jalan golongan 3 termasuk baik, golongan 1 juga memiliki persentase rusak berat paling sedikit, golongan 2 memiliki persentase rusak berat paling banyak (beda 0.1 dengan golongan 3). Sementara itu, golongan ke 3 dan 5 merupakan golongan yang memiliki rasio jalan baik paling buruk.\n",
    "\n",
    "Apabila dilihat dari konsistensi dan penggunaan anggaran untuk perbaikan jalan, golongan 4 adalah golongan yang memiliki kualitas jalan yang paling konsisten.\n"
   ]
  },
  {
   "cell_type": "markdown",
   "metadata": {},
   "source": [
    "## Representasi Data 2020"
   ]
  },
  {
   "cell_type": "markdown",
   "metadata": {},
   "source": [
    "Membandingkan persentase semua kategori kondisi jalan pada tiap golongan pemasukan"
   ]
  },
  {
   "cell_type": "code",
   "execution_count": 49,
   "metadata": {},
   "outputs": [
    {
     "data": {
      "text/plain": [
       "<Axes: xlabel='gol_anggaran'>"
      ]
     },
     "execution_count": 49,
     "metadata": {},
     "output_type": "execute_result"
    },
    {
     "data": {
      "image/png": "[encoded data removed]",
      "text/plain": [
       "<Figure size 640x480 with 1 Axes>"
      ]
     },
     "metadata": {},
     "output_type": "display_data"
    }
   ],
   "source": [
    "dfGroup20 = df5.groupby(['gol_anggaran'], observed=False)[['baik_%', 'sedang_%', 'rr_%', 'rb_%']].mean()\n",
    "dfGroup20.plot(kind='bar')"
   ]
  },
  {
   "cell_type": "markdown",
   "metadata": {},
   "source": [
    "- Dapat Dilihat diatas Bar baik_% menyatakan persentase jalan yang dianggap baik dari keseluruhan jalan, sedang_% menyatakan persentase jalan yang dianggap standard/cukup baik dari total jalan.\n",
    "\n",
    "- rr_% dan rb_% merepresentasikan persentase rusak ringan dan rusak berat secara respektif"
   ]
  },
  {
   "cell_type": "markdown",
   "metadata": {},
   "source": [
    "Persebaran total_panjang berdasarkan gol_anggaran"
   ]
  },
  {
   "cell_type": "code",
   "execution_count": 50,
   "metadata": {},
   "outputs": [
    {
     "data": {
      "text/plain": [
       "<Axes: xlabel='gol_anggaran', ylabel='total_panjang'>"
      ]
     },
     "execution_count": 50,
     "metadata": {},
     "output_type": "execute_result"
    },
    {
     "data": {
      "image/png": "[encoded data removed]",
      "text/plain": [
       "<Figure size 640x480 with 1 Axes>"
      ]
     },
     "metadata": {},
     "output_type": "display_data"
    }
   ],
   "source": [
    "sns.boxplot(x=\"gol_anggaran\", y=\"total_panjang\", data=df5)"
   ]
  },
  {
   "cell_type": "markdown",
   "metadata": {},
   "source": [
    "- Dapat dilihat bahwa perkembangan golongan pemasukan berbanding total panjang cenderung linier berbanding lurus (semakin besar golongan pemasukan, maka total panjang cenderung semakin besar)"
   ]
  },
  {
   "cell_type": "markdown",
   "metadata": {},
   "source": [
    "Persebaran Persentase Jalan baik berdasarkan gol_anggaran"
   ]
  },
  {
   "cell_type": "code",
   "execution_count": 51,
   "metadata": {},
   "outputs": [
    {
     "data": {
      "text/plain": [
       "<Axes: xlabel='gol_anggaran', ylabel='baik_%'>"
      ]
     },
     "execution_count": 51,
     "metadata": {},
     "output_type": "execute_result"
    },
    {
     "data": {
      "image/png": "[encoded data removed]",
      "text/plain": [
       "<Figure size 640x480 with 1 Axes>"
      ]
     },
     "metadata": {},
     "output_type": "display_data"
    }
   ],
   "source": [
    "sns.boxplot(x=\"gol_anggaran\", y=\"baik_%\", data=df5)"
   ]
  },
  {
   "cell_type": "markdown",
   "metadata": {},
   "source": [
    "- Persentase Jalan Baik per golongan lumayan bervariasi, dengan variasi terbanyak yaitu golongan pemasukan 1, dan yang paling konsisten golongan 5\n",
    "- Boxplot menunjukkan bahwa persebaran persentasi jalan dengan kondisi baik ada di golongan 1, diikuti dengan golongan 4, golongan yang memiliki persentase baik paling sedikit adalah golongan 2, dan golongan paling stabil ada di golongan 4 dan 5 dengan kondisi di atas rata rata sebesar 50%\n",
    "\n",
    "Rata rata per golongan : \n",
    "- I = ~50%\n",
    "- II = ~40%\n",
    "- III = ~43%\n",
    "- IV = ~40%\n",
    "- V = ~41%"
   ]
  },
  {
   "cell_type": "markdown",
   "metadata": {},
   "source": [
    "Persebaran Persentase Jalan sedang/cukup baik berdasarkan gol_anggaran"
   ]
  },
  {
   "cell_type": "code",
   "execution_count": 52,
   "metadata": {},
   "outputs": [
    {
     "data": {
      "text/plain": [
       "<Axes: xlabel='gol_anggaran', ylabel='sedang_%'>"
      ]
     },
     "execution_count": 52,
     "metadata": {},
     "output_type": "execute_result"
    },
    {
     "data": {
      "image/png": "[encoded data removed]",
      "text/plain": [
       "<Figure size 640x480 with 1 Axes>"
      ]
     },
     "metadata": {},
     "output_type": "display_data"
    }
   ],
   "source": [
    "sns.boxplot(x=\"gol_anggaran\", y=\"sedang_%\", data=df4)"
   ]
  },
  {
   "cell_type": "markdown",
   "metadata": {},
   "source": [
    "- Persentase Jalan Sedang Per-golongan cenderung membuat arch dengan golongan 3 sebagai golongan yang memiliki persentase jalan sedang paling banyak dengan 30% diatas batas sedang 60%, sementara persebaran paling sedikit ada di golongan 1.\n",
    "\n",
    "Rata rata per golongan : \n",
    "- I = ~42%\n",
    "- II = ~60%\n",
    "- III = ~60%\n",
    "- IV = ~45%\n",
    "- V = ~50%"
   ]
  },
  {
   "cell_type": "markdown",
   "metadata": {},
   "source": [
    "Persebaran Persentase Jalan rusak ringan berdasarkan gol_anggaran"
   ]
  },
  {
   "cell_type": "code",
   "execution_count": 53,
   "metadata": {},
   "outputs": [
    {
     "data": {
      "text/plain": [
       "<Axes: xlabel='gol_anggaran', ylabel='rr_%'>"
      ]
     },
     "execution_count": 53,
     "metadata": {},
     "output_type": "execute_result"
    },
    {
     "data": {
      "image/png": "[encoded data removed]",
      "text/plain": [
       "<Figure size 640x480 with 1 Axes>"
      ]
     },
     "metadata": {},
     "output_type": "display_data"
    }
   ],
   "source": [
    "sns.boxplot(x=\"gol_anggaran\", y=\"rr_%\", data=df6)"
   ]
  },
  {
   "cell_type": "markdown",
   "metadata": {},
   "source": [
    "- Persentase Jalan Rusak ringan per golongan cenderung didominasi oleh golongan 5 karena hampir 30% antara median dan q3 , dan yang memiliki rata rata paling sedikit adalah golongan 4\n",
    "\n",
    "Rata rata per golongan : \n",
    "- I = ~4%\n",
    "- II = ~5%\n",
    "- III = ~3%\n",
    "- IV = ~3%\n",
    "- V = ~5%"
   ]
  },
  {
   "cell_type": "markdown",
   "metadata": {},
   "source": [
    "Persebaran Persentase Jalan rusak berat berdasarkan gol_anggaran"
   ]
  },
  {
   "cell_type": "code",
   "execution_count": 54,
   "metadata": {},
   "outputs": [
    {
     "data": {
      "text/plain": [
       "<Axes: xlabel='gol_anggaran', ylabel='rb_%'>"
      ]
     },
     "execution_count": 54,
     "metadata": {},
     "output_type": "execute_result"
    },
    {
     "data": {
      "image/png": "[encoded data removed]",
      "text/plain": [
       "<Figure size 640x480 with 1 Axes>"
      ]
     },
     "metadata": {},
     "output_type": "display_data"
    }
   ],
   "source": [
    "sns.boxplot(x=\"gol_anggaran\", y=\"rb_%\", data=df5)"
   ]
  },
  {
   "cell_type": "markdown",
   "metadata": {},
   "source": [
    "- Persentase Jalan Rusak berat didominasi oleh golongan 3, dengan golongan 5 sebagai kontribusi jalan rusak terkecil\n",
    "\n",
    "Rata rata per golongan : \n",
    "- I = ~0.1%\n",
    "- II = ~2.1%\n",
    "- III = ~2%\n",
    "- IV = ~0.5%\n",
    "- V = ~0.4%"
   ]
  },
  {
   "cell_type": "markdown",
   "metadata": {},
   "source": [
    "# Analisis\n",
    "Dapat dilihat menurut trend grafik pemasukan dan total jalan bahwa relasi antara pemasukan dan total jalan per daerah berbanding cenderung berbanding terbalik. Sementara itu, relasi pemasukan dan kemantapan jalan berbanding lurus. Secara umum, jika semakin tinggi pemasukan di suatu daerah, maka semakin tinggi juga kemantapan dan total jalannya, di semua daerah dengan pemasukan golongan 1-5 memiliki kerusakan ringan yang relatif sama,sedangkan untuk kasus rusak berat cenderung berbanding terbalik dengan kondisi jalan sedang(semakin tinggi persentase kondisi sedang,semakin rendah persantese kondisi rusak berat) .\n",
    "\n",
    "Trend Data:\n",
    "- I     = ~50%, ~42%, ~4%  , ~0.1%   (Mayoritas Baik dengan rusak berat paling sedikit)\n",
    "- II    = ~40%, ~60%, ~5%  , ~2.1% (Mayoritas Sedang dengan rusak berat dan rusak ringan paling banyak)\n",
    "- III   = ~43%, ~60%, ~3%  , ~2%   (Mayoritas Sedang dengan rusak berat kedua terbanyak)\n",
    "- IV    = ~40%, ~45%, ~3%  , ~0.5% (Sedang dan Baik relatif konsisten)\n",
    "- V     = ~41%, ~50%, ~5%, ~0.4% (Sedang dan Baik relatif konsisten dengan rusak ringan paling banyak)\n",
    "\n",
    "Dapat disimpulkan bahwa Semakin besar anggaran, seemakin kecil persentase jalanan yang rusak buruk, Golongan ke 5 memiliki tingkat kerusakan paling sedikit dan persebaran konsisten. sementara itu, golongan ke 2 dan 4 merupakan golongan yang memiliki rasio jalan baik paling buruk.\n",
    "\n",
    "Apabila dilihat dari konsistensi dan penggunaan anggaran untuk perbaikan jalan, golongan 5 adalah golongan yang memiliki kualitas jalan yang paling konsisten."
   ]
  },
  {
   "cell_type": "markdown",
   "metadata": {},
   "source": [
    "## Representasi Data 2019"
   ]
  },
  {
   "cell_type": "markdown",
   "metadata": {},
   "source": [
    "Membandingkan persentase semua kategori kondisi jalan pada tiap golongan pemasukan"
   ]
  },
  {
   "cell_type": "code",
   "execution_count": 55,
   "metadata": {},
   "outputs": [
    {
     "data": {
      "text/plain": [
       "<Axes: xlabel='gol_anggaran'>"
      ]
     },
     "execution_count": 55,
     "metadata": {},
     "output_type": "execute_result"
    },
    {
     "data": {
      "image/png": "[encoded data removed]",
      "text/plain": [
       "<Figure size 640x480 with 1 Axes>"
      ]
     },
     "metadata": {},
     "output_type": "display_data"
    }
   ],
   "source": [
    "dfGroup19 = df6.groupby(['gol_anggaran'], observed=False)[['baik_%', 'sedang_%', 'rr_%', 'rb_%']].mean()\n",
    "dfGroup19.plot(kind='bar')"
   ]
  },
  {
   "cell_type": "markdown",
   "metadata": {},
   "source": [
    "- Dapat Dilihat diatas Bar baik_% menyatakan persentase jalan yang dianggap baik dari keseluruhan jalan, sedang_% menyatakan persentase jalan yang dianggap standard/cukup baik dari total jalan.\n",
    "\n",
    "- rr_% dan rb_% merepresentasikan persentase rusak ringan dan rusak berat secara respektif\n",
    "\n",
    "- jalan dengan keterangan rr dan rb relatif rendah dibawah 10%. namun bagi jalan baik dan sedang hampir setara pada gol I - IV dan terlihat bahwa pada golongan V cenderung memiliki rata-rata persentasi jalanan baik yang lebih besar. "
   ]
  },
  {
   "cell_type": "markdown",
   "metadata": {},
   "source": [
    "Persebaran total_panjang berdasarkan gol_anggaran"
   ]
  },
  {
   "cell_type": "code",
   "execution_count": 56,
   "metadata": {},
   "outputs": [
    {
     "data": {
      "text/plain": [
       "<Axes: xlabel='gol_anggaran', ylabel='total_panjang'>"
      ]
     },
     "execution_count": 56,
     "metadata": {},
     "output_type": "execute_result"
    },
    {
     "data": {
      "image/png": "[encoded data removed]",
      "text/plain": [
       "<Figure size 640x480 with 1 Axes>"
      ]
     },
     "metadata": {},
     "output_type": "display_data"
    }
   ],
   "source": [
    "sns.boxplot(x=\"gol_anggaran\", y=\"total_panjang\", data=df6)"
   ]
  },
  {
   "cell_type": "markdown",
   "metadata": {},
   "source": [
    "- Dapat dilihat bahwa perkembangan golongan pemasukan berbanding total panjang cenderung linier berbanding lurus (semakin besar golongan pemasukan, maka total panjang cenderung semakin besar)"
   ]
  },
  {
   "cell_type": "markdown",
   "metadata": {},
   "source": [
    "Persebaran Persentase Jalan baik berdasarkan gol_anggaran"
   ]
  },
  {
   "cell_type": "code",
   "execution_count": 57,
   "metadata": {},
   "outputs": [
    {
     "data": {
      "text/plain": [
       "<Axes: xlabel='gol_anggaran', ylabel='baik_%'>"
      ]
     },
     "execution_count": 57,
     "metadata": {},
     "output_type": "execute_result"
    },
    {
     "data": {
      "image/png": "[encoded data removed]",
      "text/plain": [
       "<Figure size 640x480 with 1 Axes>"
      ]
     },
     "metadata": {},
     "output_type": "display_data"
    }
   ],
   "source": [
    "sns.boxplot(x=\"gol_anggaran\", y=\"baik_%\", data=df6)"
   ]
  },
  {
   "cell_type": "markdown",
   "metadata": {},
   "source": [
    "- Golongan IV dan V memiliki rentang nilai tengah yang jauh dari quartil 3 bahkan nilai maksimum, ini menandakan adanya ketimpangan yang tinggi dalam anggota golongan IV dan V. menandakan tingginya angka anggaran belanja modal, tidak selalu menandakan tingginya persentasi kondisi infrastruktur jalan dalam keadaan baik."
   ]
  },
  {
   "cell_type": "markdown",
   "metadata": {},
   "source": [
    "Persebaran Persentase Jalan sedang/cukup baik berdasarkan gol_anggaran"
   ]
  },
  {
   "cell_type": "code",
   "execution_count": 58,
   "metadata": {},
   "outputs": [
    {
     "data": {
      "text/plain": [
       "<Axes: xlabel='gol_anggaran', ylabel='sedang_%'>"
      ]
     },
     "execution_count": 58,
     "metadata": {},
     "output_type": "execute_result"
    },
    {
     "data": {
      "image/png": "[encoded data removed]",
      "text/plain": [
       "<Figure size 640x480 with 1 Axes>"
      ]
     },
     "metadata": {},
     "output_type": "display_data"
    }
   ],
   "source": [
    "sns.boxplot(x=\"gol_anggaran\", y=\"sedang_%\", data=df6)"
   ]
  },
  {
   "cell_type": "markdown",
   "metadata": {},
   "source": [
    "- Angka persentasi jalan berkondisi sedang pada seluruh golongan berada diatas 40% dengan tertinggi pada golongan II dengan maksimum di hampir 70%\n",
    "- Jika dilihat pada golongan IV, nilai median justru dekat dengan nilai kuartil pertama. Ini menandakan bahwa 50% dari anggota golongan IV memiliki jalan berkondisi sedang pada perserntasi 40%. Namun, golongan 4 memiliki nilai kuartil 3 yang paling tinggi dari semua golongan.\n",
    "- Golongan V memiliki nilai minimum paling rendah dibanding golongan yang lainnya, ditambah memiliki 50% dari anggotanya memiliki nilai persentasi pada 50%."
   ]
  },
  {
   "cell_type": "markdown",
   "metadata": {},
   "source": [
    "Persebaran Persentase Jalan rusak ringan berdasarkan gol_anggaran"
   ]
  },
  {
   "cell_type": "code",
   "execution_count": 59,
   "metadata": {},
   "outputs": [
    {
     "data": {
      "text/plain": [
       "<Axes: xlabel='gol_anggaran', ylabel='rr_%'>"
      ]
     },
     "execution_count": 59,
     "metadata": {},
     "output_type": "execute_result"
    },
    {
     "data": {
      "image/png": "[encoded data removed]",
      "text/plain": [
       "<Figure size 640x480 with 1 Axes>"
      ]
     },
     "metadata": {},
     "output_type": "display_data"
    }
   ],
   "source": [
    "sns.boxplot(x=\"gol_anggaran\", y=\"rr_%\", data=df6)"
   ]
  },
  {
   "cell_type": "markdown",
   "metadata": {},
   "source": [
    "- secara umum, persentasi jalan kondisi rusak ringan pada semua golongan ada dibawah 10% dengan beberapa golongan memiliki nilai lebih dari 10%\n",
    "- secara rata-rata, nilai rusak ringan ada pada nilai 5% untuk semua golongan.\n",
    "- golongan II dan IV memiliki outlier dengan nilai lebih dari 10%, dengan golongan IV memiliki nilai tertinggi diatas 20%"
   ]
  },
  {
   "cell_type": "markdown",
   "metadata": {},
   "source": [
    "Persebaran Persentase Jalan rusak berat berdasarkan gol_anggaran"
   ]
  },
  {
   "cell_type": "code",
   "execution_count": 60,
   "metadata": {},
   "outputs": [
    {
     "data": {
      "text/plain": [
       "<Axes: xlabel='gol_anggaran', ylabel='rb_%'>"
      ]
     },
     "execution_count": 60,
     "metadata": {},
     "output_type": "execute_result"
    },
    {
     "data": {
      "image/png": "[encoded data removed]",
      "text/plain": [
       "<Figure size 640x480 with 1 Axes>"
      ]
     },
     "metadata": {},
     "output_type": "display_data"
    }
   ],
   "source": [
    "sns.boxplot(x=\"gol_anggaran\", y=\"rb_%\", data=df6)"
   ]
  },
  {
   "cell_type": "markdown",
   "metadata": {},
   "source": [
    "- nilai persentasi jalan rusak berat tertinggi ada pada golongan II dengan outlier diatas 10%. namun secara median, semua golongan memiliki nilai dibawah 4%\n",
    "- Golongan IV memiliki variasi nilai yang besar setelah median, menandakan masih ada wilayah yang memiliki jalan rusak berat diatas rata-rata golongannya.\n",
    "- golongan III memiliki nilai variasi paling kecil dan nilai maksimum paling kecil, menandakan wilayah yang masuk kedalam golongan III memiliki jalan rusak berat yang cenderung dibawah 2% total jalan."
   ]
  },
  {
   "cell_type": "markdown",
   "metadata": {},
   "source": [
    "# Analisis\n",
    "- Jika melihat nilai secara keseluruhan untuk kondisi jalan sedang dan baik, terlihat bahwa wilayah golongan V memiliki persentasi jalan mantap yang lebih tinggi dari golongan lainnya.\n",
    "- Golongan III yang memiliki total panjang jalan yang cenderung besar, cenderung memiliki nilai yang baik dalam kondisi sedang dan baik dan bahkan memiliki nilai terkecil dalam jalan berkondisi rusak berat. Menandakan wilayah pada golongan III, memiliki pemeliharaan infrastruktur jalan yang cenderung baik terlepas dari panjangnya total jalan yang dimiliki.\n",
    "- Golongan yang memiliki ketimpangan besar untuk kemantapan jalan adalah pada golongan IV. Golongan memiliki nilai median jalan berkondisi baik dan sedang yang jauh dari kuartil 3. menandakan banyak anggota wilayahnya memiliki persentasi yang kecil. Pada kondisi rusak berat pun golongan wilayah IV memiliki nilai maksimum terbesar dan pada kondisi rusak ringan memiliki anggota dengan nilai persentasi lebih dari 20% \n",
    "- Dari penjelasan diatas, menandakan bahwa besarnya anggaran belanja modal tidak selalu menandakan bahwa kondisi baik dari infrastruktur jalan akan besar juga. Namun, alangkah baiknya pemeliharaan jalan menjadi salah satu infrastruktur yang diutamakan, karena akan mempengaruhi banyak aspek dalam pertumbuhan wilayah. Dengan adanya jalur transportasi yang baik, banyak aspek dalam wilayah pun akan dapat berkembang dengan lebih pesat terutama dari sisi perekonomian."
   ]
  }
 ],
 "metadata": {
  "kernelspec": {
   "display_name": "Python 3 (ipykernel)",
   "language": "python",
   "name": "python3"
  },
  "language_info": {
   "codemirror_mode": {
    "name": "ipython",
    "version": 3
   },
   "file_extension": ".py",
   "mimetype": "text/x-python",
   "name": "python",
   "nbconvert_exporter": "python",
   "pygments_lexer": "ipython3",
   "version": "3.11.4"
  }
 },
 "nbformat": 4,
 "nbformat_minor": 2
}
